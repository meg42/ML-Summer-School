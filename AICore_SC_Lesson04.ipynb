{
  "nbformat": 4,
  "nbformat_minor": 0,
  "metadata": {
    "colab": {
      "name": "AICore_SC_Lesson04.ipynb",
      "provenance": [],
      "authorship_tag": "ABX9TyMkS5UwVWfJwsa2gIXESAh2",
      "include_colab_link": true
    },
    "kernelspec": {
      "name": "python3",
      "display_name": "Python 3"
    }
  },
  "cells": [
    {
      "cell_type": "markdown",
      "metadata": {
        "id": "view-in-github",
        "colab_type": "text"
      },
      "source": [
        "<a href=\"https://colab.research.google.com/github/pili-zhangqiu/ML-Summer-School/blob/master/AICore_SC_Lesson04.ipynb\" target=\"_parent\"><img src=\"https://colab.research.google.com/assets/colab-badge.svg\" alt=\"Open In Colab\"/></a>"
      ]
    },
    {
      "cell_type": "markdown",
      "metadata": {
        "id": "A96h9dNu_8ig",
        "colab_type": "text"
      },
      "source": [
        "# **Getting Started**\n",
        "**Mounting your GDrive**\n",
        "\n",
        "By mounting the Drive to your Python notebook, you will be able to read and manipulate files stored in your Google *Drive*."
      ]
    },
    {
      "cell_type": "code",
      "metadata": {
        "id": "0VzifR0x_fdE",
        "colab_type": "code",
        "colab": {
          "base_uri": "https://localhost:8080/",
          "height": 34
        },
        "outputId": "5d238406-d1f0-485e-8e29-b34bd77adc1e"
      },
      "source": [
        "# Import the function to mount the Drive\n",
        "from google.colab import drive\n",
        "\n",
        "# This line shows that we will be mounting everything stored in the main GDrive folder\n",
        "drive.mount('/content/gdrive')"
      ],
      "execution_count": null,
      "outputs": [
        {
          "output_type": "stream",
          "text": [
            "Drive already mounted at /content/gdrive; to attempt to forcibly remount, call drive.mount(\"/content/gdrive\", force_remount=True).\n"
          ],
          "name": "stdout"
        }
      ]
    },
    {
      "cell_type": "markdown",
      "metadata": {
        "id": "2CGSurOOACuF",
        "colab_type": "text"
      },
      "source": [
        "# **Introduction to Basics of Linear Regression**\n",
        "**Opening the data file**"
      ]
    },
    {
      "cell_type": "code",
      "metadata": {
        "id": "zVpjrpbaARjX",
        "colab_type": "code",
        "colab": {}
      },
      "source": [
        "# Import the required libraries\n",
        "import pandas as pd\n",
        "import matplotlib.pyplot as plt\n",
        "import numpy as np"
      ],
      "execution_count": null,
      "outputs": []
    },
    {
      "cell_type": "code",
      "metadata": {
        "id": "rFp4mAaYAaVX",
        "colab_type": "code",
        "colab": {
          "base_uri": "https://localhost:8080/",
          "height": 571
        },
        "outputId": "aa2e0b52-d58c-4f38-ebe8-fbd430216673"
      },
      "source": [
        "# Use pandas to read the csv\n",
        "df = pd.read_csv('/content/gdrive/My Drive/Colab Notebooks/data/AutoInsurSweden.csv')\n",
        "\n",
        "# Preview of the dataset\n",
        "print(df.head(20))\n",
        "\n",
        "# Create a dependent and independent variable to allocate different feature values\n",
        "x = np.array(df['number_of_claims'])\n",
        "y = np.array(df[df.columns[1]])\n",
        "\n",
        "print()\n",
        "print(x)\n",
        "print()\n",
        "print(y)"
      ],
      "execution_count": null,
      "outputs": [
        {
          "output_type": "stream",
          "text": [
            "    number_of_claims  total_payment(thousands of Swedish Kronor)\n",
            "0                108                                       392.5\n",
            "1                 19                                         5.2\n",
            "2                 13                                        15.7\n",
            "3                124                                       422.2\n",
            "4                 40                                       119.4\n",
            "5                 57                                       170.9\n",
            "6                 23                                        56.9\n",
            "7                 14                                        77.5\n",
            "8                 45                                       214.0\n",
            "9                 10                                        65.3\n",
            "10                 5                                        20.9\n",
            "11                48                                       248.1\n",
            "12                11                                        23.5\n",
            "13                23                                        39.6\n",
            "14                 7                                        48.8\n",
            "15                 2                                         6.6\n",
            "16                24                                       134.9\n",
            "17                 6                                        50.9\n",
            "18                 3                                         4.4\n",
            "19                23                                       113.0\n",
            "\n",
            "[108  19  13 124  40  57  23  14  45  10   5  48  11  23   7   2  24   6\n",
            "   3  23   6   9   9   3  29   7   4  20   7   4   0  25   6   5  22  11\n",
            "  61  12   4  16  13  60  41  37  55  41  11  27   8   3  17  13  13  15\n",
            "   8  29  30  24   9  31  14  53  26]\n",
            "\n",
            "[392.5   5.2  15.7 422.2 119.4 170.9  56.9  77.5 214.   65.3  20.9 248.1\n",
            "  23.5  39.6  48.8   6.6 134.9  50.9   4.4 113.   14.8  48.7  52.1  13.2\n",
            " 103.9  77.5  11.8  98.1  27.9  38.1   0.   69.2  14.6  40.3 161.5  57.2\n",
            " 217.6  58.1  12.6  59.6  89.9 202.4 181.3 152.8 162.8  73.4  21.3  92.6\n",
            "  76.1  39.9 142.1  93.   31.9  32.1  55.6 133.3 194.5 137.9  87.4 209.8\n",
            "  95.5 244.6 187.5]\n"
          ],
          "name": "stdout"
        }
      ]
    },
    {
      "cell_type": "code",
      "metadata": {
        "id": "f8yAyHdqfB13",
        "colab_type": "code",
        "colab": {
          "base_uri": "https://localhost:8080/",
          "height": 279
        },
        "outputId": "504e73a0-1888-4252-f3d5-4c992b346b39"
      },
      "source": [
        "# plot data\n",
        "plt.scatter(x,y)\n",
        "plt.xlabel('number of claims')\n",
        "plt.ylabel('total payment')\n",
        "plt.show()"
      ],
      "execution_count": null,
      "outputs": [
        {
          "output_type": "display_data",
          "data": {
            "image/png": "[encoded data removed]",
            "text/plain": [
              "<Figure size 432x288 with 1 Axes>"
            ]
          },
          "metadata": {
            "tags": [],
            "needs_background": "light"
          }
        }
      ]
    },
    {
      "cell_type": "markdown",
      "metadata": {
        "id": "MN5oTdmdAyr1",
        "colab_type": "text"
      },
      "source": [
        "**Explanation on predictions and cost**"
      ]
    },
    {
      "cell_type": "code",
      "metadata": {
        "id": "yeoQWkmRBI-E",
        "colab_type": "code",
        "colab": {
          "base_uri": "https://localhost:8080/",
          "height": 34
        },
        "outputId": "522fd139-7ba1-4cf6-e866-37cae214c9cd"
      },
      "source": [
        "# Define your prediction\n",
        "def y_predict(x):   # Linear eq: y = 3.5*x\n",
        "  return 3.5*x\n",
        "\n",
        "# Calculate your mean squared error (MSE) or cost\n",
        "# MSE =  1/n * sum_from_0_to_n( (y_i-y_pred_i)^2 )\n",
        "def mse_cost(y, y_pred):\n",
        "  diffs = y-y_pred\n",
        "  squared_diffs = np.square(diffs)\n",
        "  mean_squared_diff = np.mean(squared_diffs)\n",
        "  return mean_squared_diff"
      ],
      "execution_count": null,
      "outputs": [
        {
          "output_type": "stream",
          "text": [
            "4.0\n"
          ],
          "name": "stdout"
        }
      ]
    },
    {
      "cell_type": "code",
      "metadata": {
        "id": "AeA99MXSBVuP",
        "colab_type": "code",
        "colab": {
          "base_uri": "https://localhost:8080/",
          "height": 282
        },
        "outputId": "c4873999-c1ea-498e-fbe5-3809355f757a"
      },
      "source": [
        "# Plot y against x. Use the predict function to y_pred, then plot y_pred against x\n",
        "# on the above plot so you can compare the y against y_pred\n",
        "y_pred = y_predict(x)\n",
        "plt.scatter(x,y)    # real values\n",
        "plt.plot(x, y_pred) # prediction\n",
        "\n",
        "# Print the MSE or cost\n",
        "MSE_current = mse_cost(y,y_pred)\n",
        "print('mean squared error: ',MSE_current)"
      ],
      "execution_count": null,
      "outputs": [
        {
          "output_type": "stream",
          "text": [
            "mean squared error:  1632.575396825397\n"
          ],
          "name": "stdout"
        },
        {
          "output_type": "display_data",
          "data": {
            "image/png": "[encoded data removed]",
            "text/plain": [
              "<Figure size 432x288 with 1 Axes>"
            ]
          },
          "metadata": {
            "tags": [],
            "needs_background": "light"
          }
        }
      ]
    },
    {
      "cell_type": "markdown",
      "metadata": {
        "id": "sxQgwOjbBFPV",
        "colab_type": "text"
      },
      "source": [
        "# **Optimising Our Linear Regression Model**\n",
        "In this example we will be automatize the process in the section above, by allocating random combinations of values to 'm' and 'b'. Random Search will be used as our optimiser in order to increase our chances of finding the linear function that allows for the minimum cost."
      ]
    },
    {
      "cell_type": "code",
      "metadata": {
        "id": "cpCPSd-zCY_s",
        "colab_type": "code",
        "colab": {}
      },
      "source": [
        "# Create the random search function\n",
        "def random_search(n_iterations):\n",
        "  lowest_cost = float(\"inf\")\n",
        "  for i in range(n_iterations):\n",
        "    m = np.random.randn()*5 # random slope values\n",
        "    b = np.random.randn()*5 # random y-intercept values\n",
        "    y_pred = m*x+b  # make my prediction using random values of m and b\n",
        "                    # an equation for a line: y=mx+b\n",
        "    cost = mse_cost(y,y_pred)\n",
        "    if cost<lowest_cost:  # only if the current cost is better (lower) than the best one before\n",
        "      best_m = m  # store the current m value as the new best m value\n",
        "      best_b = b  # store the current b value as the new best b value\n",
        "      lowest_cost = cost\n",
        "  return best_m, best_b, lowest_cost  # return the important values defining the linear regression model"
      ],
      "execution_count": null,
      "outputs": []
    },
    {
      "cell_type": "code",
      "metadata": {
        "id": "O4onHMGzDNx2",
        "colab_type": "code",
        "colab": {
          "base_uri": "https://localhost:8080/",
          "height": 298
        },
        "outputId": "d185a765-0645-4341-d340-0f5b7f452fee"
      },
      "source": [
        "# Run and plot our best-fitting linear prediction\n",
        "m, b, cost = random_search(9000)  # I want to try the search random with 10 random guesses\n",
        "\n",
        "# plot\n",
        "y_pred = m*x+b\n",
        "plt.scatter(x,y)    # real values\n",
        "plt.plot(x, y_pred) # prediction\n",
        "\n",
        "# Print the MSE or cost\n",
        "MSE_current = mse_cost(y,y_pred)\n",
        "print('mean squared error: ',MSE_current)\n",
        "print('My linear eq: y = ',m,'*x +',b)"
      ],
      "execution_count": null,
      "outputs": [
        {
          "output_type": "stream",
          "text": [
            "mean squared error:  1367.6609764715272\n",
            "My linear eq: y =  3.6702669430612076 *x + 10.94892060525543\n"
          ],
          "name": "stdout"
        },
        {
          "output_type": "display_data",
          "data": {
            "image/png": "[encoded data removed]",
            "text/plain": [
              "<Figure size 432x288 with 1 Axes>"
            ]
          },
          "metadata": {
            "tags": [],
            "needs_background": "light"
          }
        }
      ]
    },
    {
      "cell_type": "markdown",
      "metadata": {
        "colab_type": "text",
        "id": "n1LQr9LztcP5"
      },
      "source": [
        "# **Optimising Our Linear Regression Model - Example**\n",
        "In this example we will be automatize the process in the section above, by allocating random combinations of values to 'm' and 'b'. Random Search will be used as our optimiser in order to increase our chances of finding the linear function that allows for the minimum cost."
      ]
    },
    {
      "cell_type": "code",
      "metadata": {
        "id": "JFa_0xBjthK0",
        "colab_type": "code",
        "colab": {
          "base_uri": "https://localhost:8080/",
          "height": 504
        },
        "outputId": "15c1b69c-787c-4f09-a4ef-6f21646102b4"
      },
      "source": [
        "# Use pandas to read the csv\n",
        "df = pd.read_csv('/content/gdrive/My Drive/Colab Notebooks/data/salary_data.csv')\n",
        "\n",
        "# Preview of the dataset\n",
        "print(df.head(20))\n",
        "\n",
        "# Create a dependent and independent variable to allocate different feature values\n",
        "x = np.array(df['YearsExperience'])\n",
        "y = np.array(df[df.columns[1]])\n",
        "\n",
        "print()\n",
        "print(x)\n",
        "print()\n",
        "print(y)"
      ],
      "execution_count": null,
      "outputs": [
        {
          "output_type": "stream",
          "text": [
            "    YearsExperience  Salary\n",
            "0               1.1   39343\n",
            "1               1.3   46205\n",
            "2               1.5   37731\n",
            "3               2.0   43525\n",
            "4               2.2   39891\n",
            "5               2.9   56642\n",
            "6               3.0   60150\n",
            "7               3.2   54445\n",
            "8               3.2   64445\n",
            "9               3.7   57189\n",
            "10              3.9   63218\n",
            "11              4.0   55794\n",
            "12              4.0   56957\n",
            "13              4.1   57081\n",
            "14              4.5   61111\n",
            "15              4.9   67938\n",
            "16              5.1   66029\n",
            "17              5.3   83088\n",
            "18              5.9   81363\n",
            "19              6.0   93940\n",
            "\n",
            "[ 1.1  1.3  1.5  2.   2.2  2.9  3.   3.2  3.2  3.7  3.9  4.   4.   4.1\n",
            "  4.5  4.9  5.1  5.3  5.9  6.   6.8  7.1  7.9  8.2  8.7  9.   9.5  9.6\n",
            " 10.3 10.5]\n",
            "\n",
            "[ 39343  46205  37731  43525  39891  56642  60150  54445  64445  57189\n",
            "  63218  55794  56957  57081  61111  67938  66029  83088  81363  93940\n",
            "  91738  98273 101302 113812 109431 105582 116969 112635 122391 121872]\n"
          ],
          "name": "stdout"
        }
      ]
    },
    {
      "cell_type": "code",
      "metadata": {
        "colab_type": "code",
        "id": "j6fJJVUNtcQA",
        "colab": {}
      },
      "source": [
        "# Create the random search function\n",
        "def random_search(n_iterations):\n",
        "  lowest_cost = float(\"inf\")\n",
        "  for i in range(n_iterations):\n",
        "    m = np.random.uniform(low=1000, high=15000) # random slope values\n",
        "    b = np.random.uniform(low=0.5, high=25000) # random y-intercept values\n",
        "    y_pred = m*x+b  # make my prediction using random values of m and b\n",
        "                    # an equation for a line: y=mx+b\n",
        "    cost = mse_cost(y,y_pred)\n",
        "    if cost<lowest_cost:  # only if the current cost is better (lower) than the best one before\n",
        "      best_m = m  # store the current m value as the new best m value\n",
        "      best_b = b  # store the current b value as the new best b value\n",
        "      lowest_cost = cost\n",
        "  return best_m, best_b, lowest_cost  # return the important values defining the linear regression model"
      ],
      "execution_count": null,
      "outputs": []
    },
    {
      "cell_type": "code",
      "metadata": {
        "colab_type": "code",
        "id": "HKPSYtKHtcQF",
        "colab": {
          "base_uri": "https://localhost:8080/",
          "height": 298
        },
        "outputId": "59ca894e-6003-4165-fc9e-9684f8a5d29e"
      },
      "source": [
        "# Run and plot our best-fitting linear prediction\n",
        "m, b, cost = random_search(100)  # I want to try the search random with 10 random guesses\n",
        "\n",
        "# plot\n",
        "y_pred = m*x+b\n",
        "plt.scatter(x,y)    # real values\n",
        "plt.plot(x, y_pred) # prediction\n",
        "\n",
        "# Print the MSE or cost\n",
        "MSE_current = mse_cost(y,y_pred)\n",
        "print('mean squared error: ',MSE_current/10**6,' M')\n",
        "print('My linear eq: y = ',m,'*x +',b)"
      ],
      "execution_count": null,
      "outputs": [
        {
          "output_type": "stream",
          "text": [
            "mean squared error:  36.500745123377605  M\n",
            "My linear eq: y =  9194.185865501264 *x + 24978.560100165294\n"
          ],
          "name": "stdout"
        },
        {
          "output_type": "display_data",
          "data": {
            "image/png": "[encoded data removed]",
            "text/plain": [
              "<Figure size 432x288 with 1 Axes>"
            ]
          },
          "metadata": {
            "tags": [],
            "needs_background": "light"
          }
        }
      ]
    }
  ]
}