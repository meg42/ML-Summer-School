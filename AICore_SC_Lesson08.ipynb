{
  "nbformat": 4,
  "nbformat_minor": 0,
  "metadata": {
    "colab": {
      "name": "AICore_SC_Lesson08.ipynb",
      "provenance": [],
      "authorship_tag": "ABX9TyOJg2zeWlrMnSjiWXqm8tao",
      "include_colab_link": true
    },
    "kernelspec": {
      "name": "python3",
      "display_name": "Python 3"
    }
  },
  "cells": [
    {
      "cell_type": "markdown",
      "metadata": {
        "id": "view-in-github",
        "colab_type": "text"
      },
      "source": [
        "<a href=\"https://colab.research.google.com/github/pili-zhangqiu/ML-Summer-School/blob/master/AICore_SC_Lesson08.ipynb\" target=\"_parent\"><img src=\"https://colab.research.google.com/assets/colab-badge.svg\" alt=\"Open In Colab\"/></a>"
      ]
    },
    {
      "cell_type": "markdown",
      "metadata": {
        "id": "A96h9dNu_8ig",
        "colab_type": "text"
      },
      "source": [
        "# **Getting Started**\n",
        "**Mounting your GDrive**\n",
        "\n",
        "By mounting the Drive to your Python notebook, you will be able to read and manipulate files stored in your Google *Drive*."
      ]
    },
    {
      "cell_type": "code",
      "metadata": {
        "id": "0VzifR0x_fdE",
        "colab_type": "code",
        "colab": {
          "base_uri": "https://localhost:8080/",
          "height": 34
        },
        "outputId": "37ea07eb-bc56-4ce9-ec36-d24bcd2fb3ac"
      },
      "source": [
        "# Import the function to mount the Drive\n",
        "from google.colab import drive\n",
        "\n",
        "# This line shows that we will be mounting everything stored in the main GDrive folder\n",
        "drive.mount('/content/gdrive')"
      ],
      "execution_count": 7,
      "outputs": [
        {
          "output_type": "stream",
          "text": [
            "Drive already mounted at /content/gdrive; to attempt to forcibly remount, call drive.mount(\"/content/gdrive\", force_remount=True).\n"
          ],
          "name": "stdout"
        }
      ]
    },
    {
      "cell_type": "markdown",
      "metadata": {
        "id": "2CGSurOOACuF",
        "colab_type": "text"
      },
      "source": [
        "# **ML Using Existing Libraries - Continuous Data**\n",
        "**Importing Sk-learn**\n",
        "\n",
        "Scikit-learn is a free machine learning library for Python. It features various algorithms like linear regression, random forests and k-neighbours. It also supports Python numerical and scientific libraries like NumPy and SciPy."
      ]
    },
    {
      "cell_type": "code",
      "metadata": {
        "id": "zVpjrpbaARjX",
        "colab_type": "code",
        "colab": {}
      },
      "source": [
        "# Import the required libraries\n",
        "import pandas as pd\n",
        "import matplotlib.pyplot as plt\n",
        "import numpy as np\n",
        "\n",
        "# Import the LinearRegression() function from sklearn library\n",
        "from sklearn.linear_model import LinearRegression"
      ],
      "execution_count": 21,
      "outputs": []
    },
    {
      "cell_type": "code",
      "metadata": {
        "id": "rFp4mAaYAaVX",
        "colab_type": "code",
        "colab": {
          "base_uri": "https://localhost:8080/",
          "height": 151
        },
        "outputId": "1b63a97a-4874-45d7-dc3f-9be035144869"
      },
      "source": [
        "# Use pandas to read the csv\n",
        "df = pd.read_csv('/content/gdrive/My Drive/Colab Notebooks/data/BikeSharingDaily.csv')\n",
        "\n",
        "# Preview of the dataset\n",
        "print(df.head())"
      ],
      "execution_count": 20,
      "outputs": [
        {
          "output_type": "stream",
          "text": [
            "   instant      dteday  season  yr  ...  casual  registered   cnt  numpigeons\n",
            "0        1  2011-01-01       1   0  ...     331         654   985        1547\n",
            "1        2  2011-01-02       1   0  ...     131         670   801        1004\n",
            "2        3  2011-01-03       1   0  ...     120        1229  1349         709\n",
            "3        4  2011-01-04       1   0  ...     108        1454  1562        1016\n",
            "4        5  2011-01-05       1   0  ...      82        1518  1600        1185\n",
            "\n",
            "[5 rows x 17 columns]\n"
          ],
          "name": "stdout"
        }
      ]
    },
    {
      "cell_type": "code",
      "metadata": {
        "id": "0IyKZ7cbOX67",
        "colab_type": "code",
        "colab": {}
      },
      "source": [
        "# Define the features that will be used in the prediction\n",
        "features = [df['temp'], df['windspeed'], df['hum']]\n",
        "\n",
        "# Define the independent and dependent variables\n",
        "x = np.stack(features, axis=1)\n",
        "y = np.array(df['cnt'])\n",
        "\n",
        "# Define the training set (1st-400th entries) and testing set (400th-last entries)\n",
        "train_split = 400\n",
        "\n",
        "# x_train = x[:train_split]\n",
        "# y_train = y[:train_split]\n",
        "\n",
        "x_train = x[::2]\n",
        "y_train = y[::2]\n"
      ],
      "execution_count": 47,
      "outputs": []
    },
    {
      "cell_type": "markdown",
      "metadata": {
        "id": "Vo5CzxzrN_f0",
        "colab_type": "text"
      },
      "source": [
        "**Let's be lazy! Use sklearn library instead of writing the code ourselves**"
      ]
    },
    {
      "cell_type": "code",
      "metadata": {
        "id": "k8geFTFhQgHM",
        "colab_type": "code",
        "colab": {}
      },
      "source": [
        "# Create an object for my model\n",
        "model = LinearRegression()\n",
        "\n",
        "# Input the data to fit into my model\n",
        "model = model.fit(x_train, y_train)\n",
        "\n",
        "# Generate and store my prediction (y_pred)\n",
        "y_pred = model.predict(x)"
      ],
      "execution_count": 48,
      "outputs": []
    },
    {
      "cell_type": "code",
      "metadata": {
        "id": "yeoQWkmRBI-E",
        "colab_type": "code",
        "colab": {}
      },
      "source": [
        "# Calculate your mean squared error (MSE) or cost\n",
        "def mse_cost(y, y_pred): \n",
        "  diffs = y-y_pred\n",
        "  squared_diffs = np.square(diffs)\n",
        "  mean_squared_diffs = np.mean(squared_diffs)\n",
        "  return mean_squared_diffs"
      ],
      "execution_count": 34,
      "outputs": []
    },
    {
      "cell_type": "code",
      "metadata": {
        "id": "O4onHMGzDNx2",
        "colab_type": "code",
        "colab": {
          "base_uri": "https://localhost:8080/",
          "height": 339
        },
        "outputId": "b74fcb58-83bd-4fb9-8a66-847c21eaddd7"
      },
      "source": [
        "# Calculate and print the cost\n",
        "cost = mse_cost(y, y_pred)\n",
        "print(cost)\n",
        "\n",
        "# Print the scatter plot with the original data and my prediction\n",
        "plt.scatter(df['instant'], y, label='Original Data')\n",
        "plt.scatter(df['instant'], y_pred, label='Predicted Data')\n",
        "plt.legend()\n",
        "plt.xlabel('No. of the Entry (Days)')\n",
        "plt.ylabel('No of Bike Rentals Per Day (for members & non-members)')\n",
        "plt.show()"
      ],
      "execution_count": 49,
      "outputs": [
        {
          "output_type": "stream",
          "text": [
            "2023667.363422142\n"
          ],
          "name": "stdout"
        },
        {
          "output_type": "display_data",
          "data": {
            "image/png": "[encoded data removed]",
            "text/plain": [
              "<Figure size 432x288 with 1 Axes>"
            ]
          },
          "metadata": {
            "tags": [],
            "needs_background": "light"
          }
        }
      ]
    },
    {
      "cell_type": "markdown",
      "metadata": {
        "id": "jfonWZ5qRDTD",
        "colab_type": "text"
      },
      "source": [
        "# **ML Using Existing Libraries - Classification**\n",
        "**Logistic Regression - Classification in Groups**"
      ]
    },
    {
      "cell_type": "code",
      "metadata": {
        "id": "DCvPjGimRWW-",
        "colab_type": "code",
        "colab": {
          "base_uri": "https://localhost:8080/",
          "height": 269
        },
        "outputId": "f340c482-c080-41f0-ac5d-b3e7338bc8fa"
      },
      "source": [
        "# Use pandas to read the csv\n",
        "iris_df = pd.read_csv('/content/gdrive/My Drive/Colab Notebooks/data/iris.csv')\n",
        "print(iris_df.head())\n",
        "\n",
        "# In the 'class' feature, convert the species names to a numerical equivalent\n",
        "species_to_num = {\n",
        "    'Iris-setosa':0,\n",
        "    'Iris-versicolor':1,\n",
        "    'Iris-virginica':2\n",
        "}\n",
        "\n",
        "num_to_species = {\n",
        "    0:'Iris-setosa',\n",
        "    1:'Iris-versicolor',\n",
        "    2:'Iris-virginica'\n",
        "}\n",
        "\n",
        "iris_df['class'] = iris_df['class'].map(species_to_num)\n",
        "print()\n",
        "print(iris_df.head())"
      ],
      "execution_count": 56,
      "outputs": [
        {
          "output_type": "stream",
          "text": [
            "   sepal_length(cm)  sepal_width(cm)  ...  petal_width(cm)        class\n",
            "0               5.1              3.5  ...              0.2  Iris-setosa\n",
            "1               4.9              3.0  ...              0.2  Iris-setosa\n",
            "2               4.7              3.2  ...              0.2  Iris-setosa\n",
            "3               4.6              3.1  ...              0.2  Iris-setosa\n",
            "4               5.0              3.6  ...              0.2  Iris-setosa\n",
            "\n",
            "[5 rows x 5 columns]\n",
            "\n",
            "   sepal_length(cm)  sepal_width(cm)  petal_length(cm)  petal_width(cm)  class\n",
            "0               5.1              3.5               1.4              0.2      0\n",
            "1               4.9              3.0               1.4              0.2      0\n",
            "2               4.7              3.2               1.3              0.2      0\n",
            "3               4.6              3.1               1.5              0.2      0\n",
            "4               5.0              3.6               1.4              0.2      0\n"
          ],
          "name": "stdout"
        }
      ]
    },
    {
      "cell_type": "code",
      "metadata": {
        "id": "ls0HSH13Rh-r",
        "colab_type": "code",
        "colab": {}
      },
      "source": [
        "# Define the features that will be used in the prediction\n",
        "features = [iris_df[iris_df.columns[0]],iris_df[iris_df.columns[1]],iris_df[iris_df.columns[2]],iris_df[iris_df.columns[3]]]\n",
        "\n",
        "# Define the independent and dependent variables\n",
        "x = np.stack(features, axis=1)\n",
        "y = np.array(iris_df['class'])\n",
        "\n",
        "# Part 2: Split the data in training set (50%) and testing set (50%)\n",
        "x_train = x[::2]\n",
        "y_train = y[::2]"
      ],
      "execution_count": 68,
      "outputs": []
    },
    {
      "cell_type": "code",
      "metadata": {
        "id": "P84JoTZ_R6xA",
        "colab_type": "code",
        "colab": {}
      },
      "source": [
        "# Import the LogisticRegression() function from sklearn library\n",
        "from sklearn.linear_model import LogisticRegression\n",
        "\n",
        "# ------------------------------------------------------------------------------\n",
        "# Create an object for my model\n",
        "model = LogisticRegression()\n",
        "\n",
        "# Input the data to fit into my model\n",
        "model = model.fit(x_train, y_train)\n",
        "\n",
        "# Generate and store my prediction (y_pred)\n",
        "y_pred = model.predict(x)\n",
        "\n",
        "# ------------------------------------------------------------------------------"
      ],
      "execution_count": 64,
      "outputs": []
    },
    {
      "cell_type": "code",
      "metadata": {
        "id": "HlLV2IbtSSbQ",
        "colab_type": "code",
        "colab": {
          "base_uri": "https://localhost:8080/",
          "height": 34
        },
        "outputId": "1c0286f3-6408-487d-b7f2-f77751aa7f04"
      },
      "source": [
        "# Compute and print accuracy\n",
        "accuracy = model.score(x,y)\n",
        "\n",
        "print('Accuracy', accuracy)"
      ],
      "execution_count": 65,
      "outputs": [
        {
          "output_type": "stream",
          "text": [
            "Accuracy 0.9133333333333333\n"
          ],
          "name": "stdout"
        }
      ]
    },
    {
      "cell_type": "code",
      "metadata": {
        "id": "rekS58e9SXnh",
        "colab_type": "code",
        "colab": {
          "base_uri": "https://localhost:8080/",
          "height": 300
        },
        "outputId": "c3fdf8a7-5482-44bb-ef64-15a209cfce19"
      },
      "source": [
        "# Plotting by class group\n",
        "groups = iris_df.groupby('class')\n",
        "\n",
        "for name, group in groups:\n",
        "  plt.scatter(group['sepal_length(cm)'], group['sepal_width(cm)'], label = num_to_species[name])\n",
        "\n",
        "plt.xlabel('sepal_length(cm)')\n",
        "plt.ylabel('sepal_width(cm)')\n",
        "plt.legend()"
      ],
      "execution_count": 66,
      "outputs": [
        {
          "output_type": "execute_result",
          "data": {
            "text/plain": [
              "<matplotlib.legend.Legend at 0x7efd88f77cf8>"
            ]
          },
          "metadata": {
            "tags": []
          },
          "execution_count": 66
        },
        {
          "output_type": "display_data",
          "data": {
            "image/png": "[encoded data removed]",
            "text/plain": [
              "<Figure size 432x288 with 1 Axes>"
            ]
          },
          "metadata": {
            "tags": [],
            "needs_background": "light"
          }
        }
      ]
    },
    {
      "cell_type": "markdown",
      "metadata": {
        "id": "0CAPEOiySmoU",
        "colab_type": "text"
      },
      "source": [
        "**How to group by unique values when the data is not a dataframe (df, from CSV)**"
      ]
    },
    {
      "cell_type": "code",
      "metadata": {
        "id": "auQIN0_BS1Ob",
        "colab_type": "code",
        "colab": {
          "base_uri": "https://localhost:8080/",
          "height": 300
        },
        "outputId": "7c02df77-f7b8-4a02-8fa8-55f4b6455fb1"
      },
      "source": [
        "# Plotting by class group (for non-dataframe data)\n",
        "for unique_val in np.unique(y):\n",
        "  x_gr = x[y_pred==unique_val]\n",
        "  plt.scatter(x_gr[:,0],x_gr[:,1], label=num_to_species[unique_val])\n",
        "\n",
        "plt.xlabel('sepal_length(cm)')\n",
        "plt.ylabel('sepal_width(cm)')\n",
        "plt.legend()"
      ],
      "execution_count": 67,
      "outputs": [
        {
          "output_type": "execute_result",
          "data": {
            "text/plain": [
              "<matplotlib.legend.Legend at 0x7efd88e83470>"
            ]
          },
          "metadata": {
            "tags": []
          },
          "execution_count": 67
        },
        {
          "output_type": "display_data",
          "data": {
            "image/png": "[encoded data removed]",
            "text/plain": [
              "<Figure size 432x288 with 1 Axes>"
            ]
          },
          "metadata": {
            "tags": [],
            "needs_background": "light"
          }
        }
      ]
    },
    {
      "cell_type": "markdown",
      "metadata": {
        "id": "9OKUdGmNS2-G",
        "colab_type": "text"
      },
      "source": [
        "# **Confusion Matrix for Logistic Regression Models**\n",
        "In the field of machine learning and specifically the problem of statistical classification, a confusion matrix, also known as an error matrix, is a specific table layout that allows visualization of the performance of an algorithm."
      ]
    },
    {
      "cell_type": "code",
      "metadata": {
        "id": "x3rsPqzeTKDw",
        "colab_type": "code",
        "colab": {
          "base_uri": "https://localhost:8080/",
          "height": 300
        },
        "outputId": "77793506-b649-433e-e3ec-ff071ca923fb"
      },
      "source": [
        "# Import the confusion matrix function\n",
        "from sklearn.metrics import plot_confusion_matrix\n",
        "\n",
        "# Plot the confusion matrix\n",
        "plot_confusion_matrix(model, x, y)"
      ],
      "execution_count": 69,
      "outputs": [
        {
          "output_type": "execute_result",
          "data": {
            "text/plain": [
              "<sklearn.metrics._plot.confusion_matrix.ConfusionMatrixDisplay at 0x7efd88d6ec18>"
            ]
          },
          "metadata": {
            "tags": []
          },
          "execution_count": 69
        },
        {
          "output_type": "display_data",
          "data": {
            "image/png": "[encoded data removed]",
            "text/plain": [
              "<Figure size 432x288 with 2 Axes>"
            ]
          },
          "metadata": {
            "tags": [],
            "needs_background": "light"
          }
        }
      ]
    },
    {
      "cell_type": "markdown",
      "metadata": {
        "id": "WuQiIdrSTa0w",
        "colab_type": "text"
      },
      "source": [
        "**Why is accuracy not always the best way to assess how good a model is?**\n",
        "\n",
        "The answer is NO. But why? Let's think of an example\n",
        "\n",
        "We have a dataset containing 100 pics: 95 of dogs, 5 of cats. I need to create an algorithm to predict if it is a dog or not. Then, I create an algorithm that predicts dog everytime, no matter the situation. Would you say it is a good algorithm? The **accuracy** of my algorithm is 95%, but that doesn't make it a good model.\n",
        "\n",
        "That's why cannot only use accuracy to see how good a model is, but also **recall** and **precision**.\n",
        "\n",
        "![alt text](https://miro.medium.com/max/1872/1*pOtBHai4jFd-ujaNXPilRg.png)\n",
        "*Image from towardsdatascience.com.*\n"
      ]
    },
    {
      "cell_type": "markdown",
      "metadata": {
        "id": "gHQIP_jMmciv",
        "colab_type": "text"
      },
      "source": [
        "**Recall and Precision**\n",
        "\n",
        "While accuracy is 'global', precision and recall are specific to each group:\n",
        "\n",
        "Dog category \n",
        "* precision = 95 (true positive) / 95 (true positive) + 5 (false positive) = 0.95\n",
        "* recall = 95 (true positive) / 95 (true positive) + 0 (false negative) = 1\n",
        "\n",
        "Cat category\n",
        "* precision = 0 (true positive) / 0 (true positive) + 0 (false positive) = indefined or '0'\n",
        "* recall = 0 (true positive) / 0 (true positive) + 5 (false negative) = 0\n",
        "\n",
        "Therefore, for the model the mean precision, mean recall and accuracy are:\n",
        "* mean precision = 0.475\n",
        "* mean recall = 0.5\n",
        "* accuracy = 0.95"
      ]
    },
    {
      "cell_type": "code",
      "metadata": {
        "id": "btolGvjjTirS",
        "colab_type": "code",
        "colab": {
          "base_uri": "https://localhost:8080/",
          "height": 34
        },
        "outputId": "7979a1c4-bbab-4bc5-cb1d-80197f32eae0"
      },
      "source": [
        "# To better assess how good your ML model is, use F1 Score\n",
        "# f1 score is the harmonic mean of precision and recall\n",
        "\n",
        "# Import the F1 Score Function\n",
        "from sklearn.metrics import f1_score\n",
        "\n",
        "# Compute and print the F1 score\n",
        "f1 = f1_score(y, y_pred, average=\"weighted\")\n",
        "print('F1 score', f1)"
      ],
      "execution_count": 70,
      "outputs": [
        {
          "output_type": "stream",
          "text": [
            "F1 score 0.9122718223841821\n"
          ],
          "name": "stdout"
        }
      ]
    }
  ]
}