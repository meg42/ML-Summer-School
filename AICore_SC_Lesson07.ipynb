{
  "nbformat": 4,
  "nbformat_minor": 0,
  "metadata": {
    "colab": {
      "name": "AICore_SC_Lesson07.ipynb",
      "provenance": [],
      "authorship_tag": "ABX9TyNyK+l8h2ZyMtkQlfHQkin6",
      "include_colab_link": true
    },
    "kernelspec": {
      "name": "python3",
      "display_name": "Python 3"
    }
  },
  "cells": [
    {
      "cell_type": "markdown",
      "metadata": {
        "id": "view-in-github",
        "colab_type": "text"
      },
      "source": [
        "<a href=\"https://colab.research.google.com/github/pili-zhangqiu/ML-Summer-School/blob/master/AICore_SC_Lesson07.ipynb\" target=\"_parent\"><img src=\"https://colab.research.google.com/assets/colab-badge.svg\" alt=\"Open In Colab\"/></a>"
      ]
    },
    {
      "cell_type": "markdown",
      "metadata": {
        "id": "A96h9dNu_8ig",
        "colab_type": "text"
      },
      "source": [
        "# **Getting Started**\n",
        "**Mounting your GDrive**\n",
        "\n",
        "By mounting the Drive to your Python notebook, you will be able to read and manipulate files stored in your Google *Drive*."
      ]
    },
    {
      "cell_type": "code",
      "metadata": {
        "id": "0VzifR0x_fdE",
        "colab_type": "code",
        "colab": {
          "base_uri": "https://localhost:8080/",
          "height": 121
        },
        "outputId": "09720cb0-9d73-4278-afb7-12f707c80c9e"
      },
      "source": [
        "# Import the function to mount the Drive\n",
        "from google.colab import drive\n",
        "\n",
        "# This line shows that we will be mounting everything stored in the main GDrive folder\n",
        "drive.mount('/content/gdrive')"
      ],
      "execution_count": 4,
      "outputs": [
        {
          "output_type": "stream",
          "text": [
            "Go to this URL in a browser: https://accounts.google.com/o/oauth2/auth?client_id=947318989803-6bn6qk8qdgf4n4g3pfee6491hc0brc4i.apps.googleusercontent.com&redirect_uri=urn%3aietf%3awg%3aoauth%3a2.0%3aoob&scope=email%20https%3a%2f%2fwww.googleapis.com%2fauth%2fdocs.test%20https%3a%2f%2fwww.googleapis.com%2fauth%2fdrive%20https%3a%2f%2fwww.googleapis.com%2fauth%2fdrive.photos.readonly%20https%3a%2f%2fwww.googleapis.com%2fauth%2fpeopleapi.readonly&response_type=code\n",
            "\n",
            "Enter your authorization code:\n",
            "··········\n",
            "Mounted at /content/gdrive\n"
          ],
          "name": "stdout"
        }
      ]
    },
    {
      "cell_type": "markdown",
      "metadata": {
        "id": "2CGSurOOACuF",
        "colab_type": "text"
      },
      "source": [
        "# **Optimization using Gradient-Based Approaches**\n",
        "**Opening the data file**"
      ]
    },
    {
      "cell_type": "code",
      "metadata": {
        "id": "zVpjrpbaARjX",
        "colab_type": "code",
        "colab": {}
      },
      "source": [
        "# Import the required libraries\n",
        "import pandas as pd\n",
        "import matplotlib.pyplot as plt\n",
        "import numpy as np"
      ],
      "execution_count": 2,
      "outputs": []
    },
    {
      "cell_type": "code",
      "metadata": {
        "id": "rFp4mAaYAaVX",
        "colab_type": "code",
        "colab": {
          "base_uri": "https://localhost:8080/",
          "height": 218
        },
        "outputId": "641a5e1e-de0e-4fee-e007-77b6ad95d8e5"
      },
      "source": [
        "# Use pandas to read the csv\n",
        "df = pd.read_csv('/content/gdrive/My Drive/Colab Notebooks/data/BikeSharingDaily.csv')\n",
        "\n",
        "# Preview of the dataset\n",
        "print(df.head())\n",
        "print(df.columns)"
      ],
      "execution_count": 5,
      "outputs": [
        {
          "output_type": "stream",
          "text": [
            "   instant      dteday  season  yr  ...  casual  registered   cnt  numpigeons\n",
            "0        1  2011-01-01       1   0  ...     331         654   985        1547\n",
            "1        2  2011-01-02       1   0  ...     131         670   801        1004\n",
            "2        3  2011-01-03       1   0  ...     120        1229  1349         709\n",
            "3        4  2011-01-04       1   0  ...     108        1454  1562        1016\n",
            "4        5  2011-01-05       1   0  ...      82        1518  1600        1185\n",
            "\n",
            "[5 rows x 17 columns]\n",
            "Index(['instant', 'dteday', 'season', 'yr', 'mnth', 'holiday', 'weekday',\n",
            "       'workingday', 'weathersit', 'temp', 'atemp', 'hum', 'windspeed',\n",
            "       'casual', 'registered', 'cnt', 'numpigeons'],\n",
            "      dtype='object')\n"
          ],
          "name": "stdout"
        }
      ]
    },
    {
      "cell_type": "markdown",
      "metadata": {
        "id": "Vo5CzxzrN_f0",
        "colab_type": "text"
      },
      "source": [
        "**Feature Scaling**"
      ]
    },
    {
      "cell_type": "code",
      "metadata": {
        "id": "0IyKZ7cbOX67",
        "colab_type": "code",
        "colab": {}
      },
      "source": [
        "# Define the features that will be used in the prediction\n",
        "features = [df['temp'], df['hum'], df['windspeed']]\n",
        "\n",
        "# Define the independent and dependent variables\n",
        "x = np.stack(features, axis=1)\n",
        "y = np.array(df['cnt'])"
      ],
      "execution_count": 36,
      "outputs": []
    },
    {
      "cell_type": "code",
      "metadata": {
        "id": "k8geFTFhQgHM",
        "colab_type": "code",
        "colab": {}
      },
      "source": [
        "# y = m1*x1 + m2*x2 + .... + mn*xn\n",
        "# Normalisation function for multifeature models (x1, x2, x3....xn)\n",
        "def normalize(x):\n",
        "  xnorm = np.copy(x)\n",
        "  for i in range(x.shape[1]):  # In the range of the number of columns (or features) in the matrix of indepen. variabes (x)\n",
        "    current_column = x[:,i]    # Select and store each column in each iteration\n",
        "\n",
        "    # Expression for normalisation of x ----> (x-x_mean)/x_std\n",
        "    column_mean = np.mean(current_column)\n",
        "    column_std = np.std(current_column)\n",
        "\n",
        "    xnorm[:,i] = (current_column - column_mean)/column_std  # normalized version of x\n",
        "  return xnorm\n",
        "\n",
        "x_norm = normalize(x)\n",
        "\n",
        "# Normalisation for the prediction (y)\n",
        "# Expression for normalisation of y ----> (y-y_mean)/y_std\n",
        "y_mean = np.mean(y)\n",
        "y_std = np.std(y)\n",
        "\n",
        "y_norm = (y-y_mean)/y_std  # normalized version of y"
      ],
      "execution_count": 39,
      "outputs": []
    },
    {
      "cell_type": "markdown",
      "metadata": {
        "id": "sxQgwOjbBFPV",
        "colab_type": "text"
      },
      "source": [
        "# **Optimising Our Regression Model**\n",
        "In this example we will be use a gradient-based optimization model instead of random search."
      ]
    },
    {
      "cell_type": "code",
      "metadata": {
        "id": "yeoQWkmRBI-E",
        "colab_type": "code",
        "colab": {}
      },
      "source": [
        "# Calculate your mean squared error (MSE) or cost\n",
        "# MSE =  1/n * sum_from_0_to_n( (y_i-y_pred_i)^2 )\n",
        "def mse_cost(y, y_pred):\n",
        "  diffs = y-y_pred\n",
        "  squared_diffs = np.square(diffs)\n",
        "  mean_squared_diffs = np.mean(squared_diffs)\n",
        "  return mean_squared_diffs"
      ],
      "execution_count": 8,
      "outputs": []
    },
    {
      "cell_type": "code",
      "metadata": {
        "id": "cpCPSd-zCY_s",
        "colab_type": "code",
        "colab": {}
      },
      "source": [
        "# My regression eq: y = m1*x1 + m2*x2 + ....+ mn*xn + b\n",
        "\n",
        "# Create the gradient descent function\n",
        "def gradient_descent(x_norm, y_norm, n_iterations=100, learning_rate=0.3):      # In the function my default values for n_iterations is 100 and learning_rate is 0.3\n",
        "                                                                                # When calling this function, if no values are given for the parameters, it will just use the default ones\n",
        "  # Pick up one random initial point -- CAUTION: This doesn't mean we are gonna randomise all the m and b values everytime -> no for loop\n",
        "  m = np.random.randn(len(features))\n",
        "  b = np.random.randn()\n",
        "\n",
        "  # =========================================================================================================\n",
        "  # ================================= For gradient descent for value m =======================================\n",
        "  # =========================================================================================================\n",
        "\n",
        "  # For loop to create the y_pred expression\n",
        "  # y = m1*x1 + m2*x2 + ....+ mn*xn + b\n",
        "  for i in range(n_iterations): #for each iteration\n",
        "    y_pred = np.zeros(len(y))\n",
        "    for j in range(len(features)):\n",
        "      y_pred += x[:,j] * m[j]\n",
        "    y_pred += b\n",
        "\n",
        "    c = mse_cost(y,y_pred)  # calculate the cost of my prediction\n",
        "\n",
        "    # ------------------------------- GRADIENT SEARCH EXPRESSION AFTER HERE -------------------------\n",
        "    for j in range(len(features)):\n",
        "      m_grad = 2*np.mean( (y_pred-y) * x[:,j] ) # Calculate the derivative of the cost w.r.t the parameter mn\n",
        "      m[j] -= learning_rate*m_grad  # Update the value of the parameter by taking a step opposite to the sign of the gradient \n",
        "                                    # (left of a minima, gradient is gonna be negative, therefore the step is positiv --> we will move towards the positive direction of my x axis)\n",
        "  \n",
        "  # =========================================================================================================\n",
        "  # ================================= For gradient descent for value b =======================================\n",
        "  # =========================================================================================================\n",
        "  b_grad = 2*np.mean(y_pred - y)    # Calculate the derivative of the cost w.r.t the parameter b\n",
        "  b -= learning_rate * b_grad       # Update the value of the parameter by taking a step opposite to the sign of the gradient \n",
        "                                    # (left of a minima, gradient is gonna be negative, therefore the step is positiv --> we will move towards the positive direction of my x axis)\n",
        "  \n",
        "  return m, b"
      ],
      "execution_count": 37,
      "outputs": []
    },
    {
      "cell_type": "code",
      "metadata": {
        "id": "O4onHMGzDNx2",
        "colab_type": "code",
        "colab": {
          "base_uri": "https://localhost:8080/",
          "height": 313
        },
        "outputId": "56038fa0-5bea-4e9e-a82b-3b3ff0cd7d46"
      },
      "source": [
        "# Run normalization function\n",
        "x_norm = normalize(x)\n",
        "\n",
        "\n",
        "# Run the gradient descent function, but using the normalized data\n",
        "m, b = gradient_descent(x_norm, y_norm, 1000, 0.0003)\n",
        "\n",
        "# Get our prediction function: y = m_1*x_1 + m_2*x_2 + m_3*x_3 ... + b\n",
        "y_pred = np.zeros(len(y))\n",
        "for j in range(len(features)):\n",
        "  y_pred += x_norm[:,j] * m[j]\n",
        "y_pred += b\n",
        "\n",
        "#y_pred = (y_pred*y_std) + y_mean\n",
        "\n",
        "# compute cost\n",
        "cost = mse_cost(y, y_pred)\n",
        "\n",
        "# Plot scatter plot\n",
        "print('found parameters m: ',m,' b: ',b)\n",
        "print('cost: ',cost)\n",
        "\n",
        "plt.scatter(df['instant'], y, label='Original Data')\n",
        "plt.scatter(df['instant'], y_pred, label='Predicted Data with GD')\n",
        "plt.xlabel('No. of Entries (Days)')\n",
        "plt.ylabel('Number of non-member rentals')\n",
        "plt.legend()\n",
        "plt.show()\n",
        "\n",
        "# In this case we see that the numpigeons is not a good parameter to try to predict using existing data"
      ],
      "execution_count": 49,
      "outputs": [
        {
          "output_type": "stream",
          "text": [
            "found parameters m:  [1214.00291113 1361.07555503  400.6941039 ]  b:  3.1250341800377077\n",
            "cost:  25435312.08334032\n"
          ],
          "name": "stdout"
        },
        {
          "output_type": "display_data",
          "data": {
            "image/png": "[encoded data removed]",
            "text/plain": [
              "<Figure size 432x288 with 1 Axes>"
            ]
          },
          "metadata": {
            "tags": [],
            "needs_background": "light"
          }
        }
      ]
    }
  ]
}