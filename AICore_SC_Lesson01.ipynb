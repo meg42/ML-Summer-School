{
  "nbformat": 4,
  "nbformat_minor": 0,
  "metadata": {
    "colab": {
      "name": "AICore_SC_Lesson01.ipynb",
      "provenance": [],
      "collapsed_sections": [
        "13IHaRo5rR51",
        "Tai4KkftDQt_",
        "Sw5UCAPPGs_F",
        "sUjBZUjdHtsW",
        "3YyuJkpeKJ8k"
      ]
    },
    "kernelspec": {
      "name": "python3",
      "display_name": "Python 3"
    }
  },
  "cells": [
    {
      "cell_type": "markdown",
      "metadata": {
        "id": "13IHaRo5rR51",
        "colab_type": "text"
      },
      "source": [
        "# **Built-In Functions**"
      ]
    },
    {
      "cell_type": "code",
      "metadata": {
        "id": "3igpiIBHiwnu",
        "colab_type": "code",
        "colab": {
          "base_uri": "https://localhost:8080/",
          "height": 34
        },
        "outputId": "37dfe703-a846-45c2-d9e4-e6cc89a43c5d"
      },
      "source": [
        "# You can detect functions when you see brackets\n",
        "print('print this text')"
      ],
      "execution_count": null,
      "outputs": [
        {
          "output_type": "stream",
          "text": [
            "print this text\n"
          ],
          "name": "stdout"
        }
      ]
    },
    {
      "cell_type": "code",
      "metadata": {
        "id": "DoOmGIvlmRjW",
        "colab_type": "code",
        "colab": {
          "base_uri": "https://localhost:8080/",
          "height": 84
        },
        "outputId": "78ecb311-1b6d-488e-ff9a-d622e376bc93"
      },
      "source": [
        "# Python comes with built-in, basic arithmetic operations\n",
        "print(1+1)\n",
        "print(2*50)\n",
        "print(2**3)\n",
        "\n",
        "# You can print different variable types: strings, integers, float, function outputs... or a mixture\n",
        "print('the third power of two is ',34**3)"
      ],
      "execution_count": null,
      "outputs": [
        {
          "output_type": "stream",
          "text": [
            "2\n",
            "100\n",
            "8\n",
            "the third power of two is  39304\n"
          ],
          "name": "stdout"
        }
      ]
    },
    {
      "cell_type": "markdown",
      "metadata": {
        "id": "Tai4KkftDQt_",
        "colab_type": "text"
      },
      "source": [
        "# **Variable Types**"
      ]
    },
    {
      "cell_type": "markdown",
      "metadata": {
        "id": "AqENarG4H2GG",
        "colab_type": "text"
      },
      "source": [
        "**Basic Variable Types**"
      ]
    },
    {
      "cell_type": "code",
      "metadata": {
        "id": "zNCqUc7Wn3aa",
        "colab_type": "code",
        "colab": {
          "base_uri": "https://localhost:8080/",
          "height": 101
        },
        "outputId": "6327e302-9c69-448e-94e4-840081c08831"
      },
      "source": [
        "# String (text)\n",
        "mystring = 'hi i am Pilar'\n",
        "print(mystring)\n",
        "\n",
        "# Numbers can be integers (whole) or float (decimals)\n",
        "var1 = 2\n",
        "var2 = 2.0\n",
        "\n",
        "print(var1)\n",
        "print(var2)\n",
        "\n",
        "# NOTE: If in doubt, you can ask the machine what's the type of a variable\n",
        "print(type(var1))\n",
        "print('var2 is ',type(var2))"
      ],
      "execution_count": null,
      "outputs": [
        {
          "output_type": "stream",
          "text": [
            "hi i am Pilar\n",
            "2\n",
            "2.0\n",
            "<class 'int'>\n",
            "var2 is  <class 'float'>\n"
          ],
          "name": "stdout"
        }
      ]
    },
    {
      "cell_type": "code",
      "metadata": {
        "id": "FUxEiP7KFpBQ",
        "colab_type": "code",
        "colab": {
          "base_uri": "https://localhost:8080/",
          "height": 246
        },
        "outputId": "0f843821-cc01-4381-849e-eaaaf035788b"
      },
      "source": [
        "# Be mindful of the variable type:\n",
        "print(mystring + mystring)\n",
        "\n",
        "five = '5'\n",
        "number_five = 5\n",
        "\n",
        "print(five+five)\n",
        "print(number_five+number_five)\n",
        "\n",
        "print(five + number_five) # Error because both are different types"
      ],
      "execution_count": null,
      "outputs": [
        {
          "output_type": "stream",
          "text": [
            "hi i am Pilarhi i am Pilar\n",
            "55\n",
            "10\n"
          ],
          "name": "stdout"
        },
        {
          "output_type": "error",
          "ename": "TypeError",
          "evalue": "ignored",
          "traceback": [
            "\u001b[0;31m---------------------------------------------------------------------------\u001b[0m",
            "\u001b[0;31mTypeError\u001b[0m                                 Traceback (most recent call last)",
            "\u001b[0;32m<ipython-input-82-0be21ed3c111>\u001b[0m in \u001b[0;36m<module>\u001b[0;34m()\u001b[0m\n\u001b[1;32m      8\u001b[0m \u001b[0mprint\u001b[0m\u001b[0;34m(\u001b[0m\u001b[0mnumber_five\u001b[0m\u001b[0;34m+\u001b[0m\u001b[0mnumber_five\u001b[0m\u001b[0;34m)\u001b[0m\u001b[0;34m\u001b[0m\u001b[0;34m\u001b[0m\u001b[0m\n\u001b[1;32m      9\u001b[0m \u001b[0;34m\u001b[0m\u001b[0m\n\u001b[0;32m---> 10\u001b[0;31m \u001b[0mprint\u001b[0m\u001b[0;34m(\u001b[0m\u001b[0mfive\u001b[0m \u001b[0;34m+\u001b[0m \u001b[0mnumber_five\u001b[0m\u001b[0;34m)\u001b[0m\u001b[0;34m\u001b[0m\u001b[0;34m\u001b[0m\u001b[0m\n\u001b[0m",
            "\u001b[0;31mTypeError\u001b[0m: must be str, not int"
          ]
        }
      ]
    },
    {
      "cell_type": "code",
      "metadata": {
        "id": "hCxjejo6jlBa",
        "colab_type": "code",
        "colab": {
          "base_uri": "https://localhost:8080/",
          "height": 34
        },
        "outputId": "22817ae0-a236-4115-e349-47bd27404d5b"
      },
      "source": [
        "# Order is important when programming. You cannot call something that has not been defined.\n",
        "print('my dog is called ', dogname)"
      ],
      "execution_count": null,
      "outputs": [
        {
          "output_type": "stream",
          "text": [
            "my dog is called  Fran\n"
          ],
          "name": "stdout"
        }
      ]
    },
    {
      "cell_type": "markdown",
      "metadata": {
        "id": "843hksjfDYLC",
        "colab_type": "text"
      },
      "source": [
        "**Arrays**"
      ]
    },
    {
      "cell_type": "code",
      "metadata": {
        "id": "xzR6QaJYFzux",
        "colab_type": "code",
        "colab": {
          "base_uri": "https://localhost:8080/",
          "height": 34
        },
        "outputId": "e60f5283-f62a-4f82-b454-727bea465c6e"
      },
      "source": [
        "# Arrays are special variables that hold more than one value at a time. Think of it as a list.\n",
        "myarray = [1,2,3,4,5,6,7]\n",
        "print(myarray)"
      ],
      "execution_count": null,
      "outputs": [
        {
          "output_type": "stream",
          "text": [
            "[1, 2, 3, 4, 5, 6, 7]\n"
          ],
          "name": "stdout"
        }
      ]
    },
    {
      "cell_type": "code",
      "metadata": {
        "id": "b1Vpv0IxGPba",
        "colab_type": "code",
        "colab": {
          "base_uri": "https://localhost:8080/",
          "height": 50
        },
        "outputId": "0f265711-bff8-4934-eafe-27b186085c98"
      },
      "source": [
        "# Assigning or changing values of elements in an arrays\n",
        "print(myarray[0])\n",
        "\n",
        "myarray[0] = 2020\n",
        "print(myarray)"
      ],
      "execution_count": null,
      "outputs": [
        {
          "output_type": "stream",
          "text": [
            "2020\n",
            "[2020, 2, 3, 4, 5, 6, 7]\n"
          ],
          "name": "stdout"
        }
      ]
    },
    {
      "cell_type": "code",
      "metadata": {
        "id": "IGQMzYTNGVkY",
        "colab_type": "code",
        "colab": {
          "base_uri": "https://localhost:8080/",
          "height": 50
        },
        "outputId": "601ea420-e7c0-457c-90ab-416d1e9601b0"
      },
      "source": [
        "# Appending or deleting elements in an array\n",
        "# myarray.append(8)\n",
        "\n",
        "print(myarray)\n",
        "myarray.pop(7)\n",
        "print(myarray)\n"
      ],
      "execution_count": null,
      "outputs": [
        {
          "output_type": "stream",
          "text": [
            "[2020, 2, 3, 4, 5, 6, 7, 8]\n",
            "[2020, 2, 3, 4, 5, 6, 7]\n"
          ],
          "name": "stdout"
        }
      ]
    },
    {
      "cell_type": "code",
      "metadata": {
        "id": "bbwnAGIWGWQC",
        "colab_type": "code",
        "colab": {
          "base_uri": "https://localhost:8080/",
          "height": 134
        },
        "outputId": "6534782e-82b2-4d4d-8509-cf0be8cf486d"
      },
      "source": [
        "# Slicing arrays\n",
        "# NOTE: Remember that the first element in an array has an index of 0. Indeces in Python start at 0.\n",
        "print(myarray[0:5])\n",
        "print(myarray[:])\n",
        "print()\n",
        "print(myarray[-1])\n",
        "print(myarray[-3])\n",
        "\n",
        "print('myarray has this number of elements ',len(myarray))\n",
        "print(len(dogname))"
      ],
      "execution_count": null,
      "outputs": [
        {
          "output_type": "stream",
          "text": [
            "[2020, 2, 3, 4, 5]\n",
            "[2020, 2, 3, 4, 5, 6, 7]\n",
            "\n",
            "7\n",
            "5\n",
            "myarray has this number of elements  7\n",
            "4\n"
          ],
          "name": "stdout"
        }
      ]
    },
    {
      "cell_type": "markdown",
      "metadata": {
        "id": "-gy6uKU5Gn4s",
        "colab_type": "text"
      },
      "source": [
        "**Dictionaries**"
      ]
    },
    {
      "cell_type": "code",
      "metadata": {
        "id": "ydBQSmbYGwUW",
        "colab_type": "code",
        "colab": {
          "base_uri": "https://localhost:8080/",
          "height": 50
        },
        "outputId": "14479a93-bad6-498a-efa4-4cf0ed3b8a65"
      },
      "source": [
        "# Dictionaries help map keys to values. More efficient at searching.\n",
        "mydictionary = {\n",
        "    'a' : 1,\n",
        "    'c' : 3,\n",
        "    'f' : 20\n",
        "}\n",
        "\n",
        "print(mydictionary)\n",
        "print(mydictionary['f'])"
      ],
      "execution_count": null,
      "outputs": [
        {
          "output_type": "stream",
          "text": [
            "{'a': 1, 'c': 3, 'f': 20}\n",
            "20\n"
          ],
          "name": "stdout"
        }
      ]
    },
    {
      "cell_type": "code",
      "metadata": {
        "id": "ptXX2hxqG6Rn",
        "colab_type": "code",
        "colab": {
          "base_uri": "https://localhost:8080/",
          "height": 34
        },
        "outputId": "4995b2cc-13a9-46d3-8e8c-27b017805f81"
      },
      "source": [
        "# Changing values in a dictionary\n",
        "mydictionary['f'] = 6\n",
        "print(mydictionary['f'])"
      ],
      "execution_count": null,
      "outputs": [
        {
          "output_type": "stream",
          "text": [
            "6\n"
          ],
          "name": "stdout"
        }
      ]
    },
    {
      "cell_type": "code",
      "metadata": {
        "id": "bP08SG7QG-Ud",
        "colab_type": "code",
        "colab": {
          "base_uri": "https://localhost:8080/",
          "height": 34
        },
        "outputId": "a1ae4bd3-9526-4890-9d95-50e55e3f630c"
      },
      "source": [
        "# Adding or deleting dictionary entries\n",
        "# mydictionary['g'] = 7\n",
        "# print(mydictionary)\n",
        "\n",
        "mydictionary.pop('c')\n",
        "print(mydictionary)"
      ],
      "execution_count": null,
      "outputs": [
        {
          "output_type": "stream",
          "text": [
            "{'a': 1, 'f': 6, 'g': 7}\n"
          ],
          "name": "stdout"
        }
      ]
    },
    {
      "cell_type": "markdown",
      "metadata": {
        "id": "qivatDJ8GtUC",
        "colab_type": "text"
      },
      "source": [
        "**Booleans**"
      ]
    },
    {
      "cell_type": "code",
      "metadata": {
        "id": "3kIJqwRrHLZ8",
        "colab_type": "code",
        "colab": {
          "base_uri": "https://localhost:8080/",
          "height": 34
        },
        "outputId": "b770459a-b632-432c-9623-806969c2af67"
      },
      "source": [
        "# Only two possible values:\n",
        "did_i_eat = True\n",
        "can_i_swim = False\n",
        "\n",
        "print('Did I eat? ', did_i_eat)"
      ],
      "execution_count": null,
      "outputs": [
        {
          "output_type": "stream",
          "text": [
            "Did I eat?  True\n"
          ],
          "name": "stdout"
        }
      ]
    },
    {
      "cell_type": "markdown",
      "metadata": {
        "id": "Sw5UCAPPGs_F",
        "colab_type": "text"
      },
      "source": [
        "# **Operators**"
      ]
    },
    {
      "cell_type": "code",
      "metadata": {
        "id": "SH0xCDMIHRaR",
        "colab_type": "code",
        "colab": {
          "base_uri": "https://localhost:8080/",
          "height": 151
        },
        "outputId": "402a8959-cb00-497e-a136-e612c7f05876"
      },
      "source": [
        "# Variable assignment (=)\n",
        "var = 2020\n",
        "print(var)\n",
        "\n",
        "# Greater/Smaller than (> or <)\n",
        "a = 11\n",
        "b = 11\n",
        "\n",
        "string1 = 'ant'\n",
        "string2 = 'arcade'\n",
        "string3 = 'ant'\n",
        "\n",
        "print(string1>string2)\n",
        "print()\n",
        "\n",
        "# Greater/Smaller or equal to (>= or <=)\n",
        "print(a >= b)\n",
        "print(a <= b)\n",
        "\n",
        "# Equal or unequal (== or !=)\n",
        "print()\n",
        "print(string1 == string3)\n",
        "print(string1 != string3)"
      ],
      "execution_count": null,
      "outputs": [
        {
          "output_type": "stream",
          "text": [
            "2020\n",
            "False\n",
            "\n",
            "True\n",
            "True\n",
            "\n",
            "True\n",
            "False\n"
          ],
          "name": "stdout"
        }
      ]
    },
    {
      "cell_type": "markdown",
      "metadata": {
        "id": "sUjBZUjdHtsW",
        "colab_type": "text"
      },
      "source": [
        "# **Interacting with the user**\n"
      ]
    },
    {
      "cell_type": "markdown",
      "metadata": {
        "id": "35zy4SCPIMDw",
        "colab_type": "text"
      },
      "source": [
        "**User Input**"
      ]
    },
    {
      "cell_type": "code",
      "metadata": {
        "id": "6bKj-KSeHtEe",
        "colab_type": "code",
        "colab": {
          "base_uri": "https://localhost:8080/",
          "height": 50
        },
        "outputId": "55ee609a-0665-42fc-a04a-6dbfbe277bf9"
      },
      "source": [
        "# Getting input from a user\n",
        "yourname = input('What is your name?')\n",
        "print(yourname)"
      ],
      "execution_count": null,
      "outputs": [
        {
          "output_type": "stream",
          "text": [
            "What is your name?Loren\n",
            "Loren\n"
          ],
          "name": "stdout"
        }
      ]
    },
    {
      "cell_type": "markdown",
      "metadata": {
        "id": "8yZ_bIyxIba7",
        "colab_type": "text"
      },
      "source": [
        "**Conditional Statements**"
      ]
    },
    {
      "cell_type": "code",
      "metadata": {
        "id": "_21a9zzzIeVK",
        "colab_type": "code",
        "colab": {
          "base_uri": "https://localhost:8080/",
          "height": 34
        },
        "outputId": "2f8cf760-a481-4c36-e609-ba00c3d107ad"
      },
      "source": [
        "# if statements\n",
        "a= 5\n",
        "b= 5\n",
        "\n",
        "if a>b:\n",
        "  print('5 is bigger')\n",
        "\n",
        "elif a<b:\n",
        "  print('5 is smaller')\n",
        "\n",
        "else:\n",
        "  print('a is the same as b')"
      ],
      "execution_count": null,
      "outputs": [
        {
          "output_type": "stream",
          "text": [
            "a is the same as b\n"
          ],
          "name": "stdout"
        }
      ]
    },
    {
      "cell_type": "markdown",
      "metadata": {
        "id": "Zts-p1ygIi5q",
        "colab_type": "text"
      },
      "source": [
        "**PASSWORD 1 - Game Time!** (15 mins)\n",
        "\n",
        "How could you create an algorithm that checks if the user entered password is correct? If it is correct, print a confirmation message. Do the same for when it is incorrect. \n",
        "\n",
        "> **Password: TACO_cat12**\n",
        "\n",
        "![alt text](https://i.insider.com/5d42e0ce100a2402a63a98f6?width=1100&format=jpeg&auto=webp)"
      ]
    },
    {
      "cell_type": "code",
      "metadata": {
        "id": "bfuO7CDlL4qc",
        "colab_type": "code",
        "colab": {
          "base_uri": "https://localhost:8080/",
          "height": 50
        },
        "outputId": "d26a0455-72a9-4de5-a8bd-f4f506350b4a"
      },
      "source": [
        "yourpassword = input('Please, enter password')\n",
        "correct_password = 'TACO_cat12'\n",
        "\n",
        "if yourpassword == correct_password:\n",
        "  print('Correct password')\n",
        "\n",
        "else:\n",
        "  print('Incorrect password, try again')"
      ],
      "execution_count": null,
      "outputs": [
        {
          "output_type": "stream",
          "text": [
            "Please, enter passworduisadhaiushda\n",
            "Incorrect password, try again\n"
          ],
          "name": "stdout"
        }
      ]
    },
    {
      "cell_type": "markdown",
      "metadata": {
        "id": "nDST0IxEIwrh",
        "colab_type": "text"
      },
      "source": [
        "**For Loops**"
      ]
    },
    {
      "cell_type": "code",
      "metadata": {
        "id": "XyfJLAcFI2kg",
        "colab_type": "code",
        "colab": {
          "base_uri": "https://localhost:8080/",
          "height": 302
        },
        "outputId": "75ca26b8-6d96-4d02-9d39-5e11a51760b6"
      },
      "source": [
        "# For loops\n",
        "myarray = [1,2,3,4,5,6,7,8]\n",
        "mylist = ['milk', 'bread','custard']\n",
        "\n",
        "## Repeat 5 times\n",
        "print(myarray[:5])\n",
        "\n",
        "for i in range(0,5):\n",
        "  print(myarray[i])\n",
        "\n",
        "for item in mylist:\n",
        "  print(item)\n",
        "\n",
        "## Repeat for every item in my list\n",
        "for i in range(len(myarray)):\n",
        "  print(myarray[i])"
      ],
      "execution_count": null,
      "outputs": [
        {
          "output_type": "stream",
          "text": [
            "[1, 2, 3, 4, 5]\n",
            "1\n",
            "2\n",
            "3\n",
            "4\n",
            "5\n",
            "milk\n",
            "bread\n",
            "custard\n",
            "1\n",
            "2\n",
            "3\n",
            "4\n",
            "5\n",
            "6\n",
            "7\n",
            "8\n"
          ],
          "name": "stdout"
        }
      ]
    },
    {
      "cell_type": "markdown",
      "metadata": {
        "id": "ZwbHroVAJgtf",
        "colab_type": "text"
      },
      "source": [
        "**While Loops**"
      ]
    },
    {
      "cell_type": "code",
      "metadata": {
        "id": "reOwHlZOJjbE",
        "colab_type": "code",
        "colab": {
          "base_uri": "https://localhost:8080/",
          "height": 67
        },
        "outputId": "d9cd7983-0b7f-48a4-b1e5-2a0b46c5451e"
      },
      "source": [
        "# While Loops\n",
        "i = 0\n",
        "while i<len(mylist):\n",
        "  print(mylist[i])\n",
        "  i += 1  # same as sayint i=i+1"
      ],
      "execution_count": null,
      "outputs": [
        {
          "output_type": "stream",
          "text": [
            "milk\n",
            "bread\n",
            "custard\n"
          ],
          "name": "stdout"
        }
      ]
    },
    {
      "cell_type": "markdown",
      "metadata": {
        "id": "0qyo3ZkqJp-U",
        "colab_type": "text"
      },
      "source": [
        "**PASSWORD 2 - Game Time!**\n",
        "\n",
        "What are the main issues of the prior implementation? How could you improve your prior password checking algorithm? \n",
        "\n",
        "![alt text](https://miro.medium.com/max/12032/1*15Ck9QYmcclxb_ofhM_AaA.jpeg)"
      ]
    },
    {
      "cell_type": "code",
      "metadata": {
        "id": "UgjmYWMzTM28",
        "colab_type": "code",
        "colab": {
          "base_uri": "https://localhost:8080/",
          "height": 118
        },
        "outputId": "55cdeab6-a633-43c6-e135-72cc9f8f7c26"
      },
      "source": [
        "correct_pw = 'TACO_cat12'\n",
        "status = False\n",
        "\n",
        "while status == False:\n",
        "  guess = input(\"Tell me the password, NOW!\")\n",
        "  if correct_pw!= guess:\n",
        "    print('Wrong, try again')\n",
        "\n",
        "  else:\n",
        "    status = True\n",
        "    print('Congratulations, you are the best')"
      ],
      "execution_count": null,
      "outputs": [
        {
          "output_type": "stream",
          "text": [
            "Tell me the password, NOW!myguess\n",
            "Wrong, try again\n",
            "Tell me the password, NOW!guess\n",
            "Wrong, try again\n",
            "Tell me the password, NOW!TACO_cat12\n",
            "Congratulations, you are the best\n"
          ],
          "name": "stdout"
        }
      ]
    },
    {
      "cell_type": "markdown",
      "metadata": {
        "id": "3YyuJkpeKJ8k",
        "colab_type": "text"
      },
      "source": [
        "# **Create Your Own Function**"
      ]
    },
    {
      "cell_type": "code",
      "metadata": {
        "id": "8DYh0xvpKSoH",
        "colab_type": "code",
        "colab": {
          "base_uri": "https://localhost:8080/",
          "height": 34
        },
        "outputId": "e0fbca29-dfbe-45d8-f76d-8821bc967b91"
      },
      "source": [
        "# Example:\n",
        "def what_I_ate():\n",
        "  print('I ate steak')\n",
        "\n",
        "what_I_ate()"
      ],
      "execution_count": null,
      "outputs": [
        {
          "output_type": "stream",
          "text": [
            "I ate steak\n"
          ],
          "name": "stdout"
        }
      ]
    },
    {
      "cell_type": "code",
      "metadata": {
        "id": "9HoZBPsireaE",
        "colab_type": "code",
        "colab": {
          "base_uri": "https://localhost:8080/",
          "height": 50
        },
        "outputId": "e53a1159-4e84-4844-ce2d-ec6a48fae7b6"
      },
      "source": [
        "# Creating functions requiring an input\n",
        "def what_food(food):\n",
        "  print('I ate ',food)\n",
        "\n",
        "what_food('two eggs')\n",
        "\n",
        "def calc(num1,num2,num3):\n",
        "  result = num1**num2 + num3\n",
        "  #print('The result is ', result)\n",
        "  return result\n",
        "\n",
        "calc(5,23,10)\n",
        "\n",
        "variable10 = calc(5,23,10)\n",
        "print('result is ', variable10)"
      ],
      "execution_count": null,
      "outputs": [
        {
          "output_type": "stream",
          "text": [
            "I ate  two eggs\n",
            "result is  11920928955078135\n"
          ],
          "name": "stdout"
        }
      ]
    },
    {
      "cell_type": "markdown",
      "metadata": {
        "id": "0l6A-VhxuHXe",
        "colab_type": "text"
      },
      "source": [
        "# **Object-Oriented Programming**"
      ]
    },
    {
      "cell_type": "code",
      "metadata": {
        "id": "_l4PRRAuqVMA",
        "colab_type": "code",
        "colab": {
          "base_uri": "https://localhost:8080/",
          "height": 50
        },
        "outputId": "977b31fb-4e4e-4149-814b-1214dbfde624"
      },
      "source": [
        "# Create a class: template to define objects\n",
        "# Add ATTRIBUTES\n",
        "class car():\n",
        "  def __init__(self, year, maker):\n",
        "    self.year = year\n",
        "    self.maker = maker\n",
        "\n",
        "# Create a car object or instance\n",
        "BMW_V6 = car(2010,'BMW')\n",
        "print(BMW_V6.year)\n",
        "BMW_V6.year = 2009\n",
        "print(BMW_V6.year)\n",
        "\n"
      ],
      "execution_count": null,
      "outputs": [
        {
          "output_type": "stream",
          "text": [
            "2010\n",
            "2009\n"
          ],
          "name": "stdout"
        }
      ]
    },
    {
      "cell_type": "code",
      "metadata": {
        "id": "hupPJeY9u8Dy",
        "colab_type": "code",
        "colab": {
          "base_uri": "https://localhost:8080/",
          "height": 84
        },
        "outputId": "ae098bde-0ddd-4444-b2c7-38a3b16873e1"
      },
      "source": [
        "# Class is a template for defining objects. Objects can have attributes and functions\n",
        "class car:\n",
        "  def __init__(self, year, maker):  # I am creating 2 attributes that I want for my objects: maker and year\n",
        "    self.year = year\n",
        "    self.maker = maker\n",
        "    self.state = 'unknown'\n",
        "\n",
        "  def what_state(self):\n",
        "    # Create a function that tells me if the car is stalled (if year<2000) or running on the road\n",
        "    if self.year < 2000:\n",
        "      self.state = 'stalled'\n",
        "    else:\n",
        "      self.state = 'running'\n",
        "\n",
        "# Create two objects\n",
        "AUDI_V1 = car(1996,'Audi')\n",
        "Tesla_V2 = car(2018,'Tesla')\n",
        "\n",
        "\n",
        "print(AUDI_V1.year)       # Printing the year attribute of an object\n",
        "AUDI_V1.what_state()      # Running the class function on an object\n",
        "print('My car is ', AUDI_V1.state)\n",
        "\n",
        "\n",
        "print(Tesla_V2.year)\n",
        "Tesla_V2.what_state()\n",
        "print('My car is ', Tesla_V2.state)"
      ],
      "execution_count": null,
      "outputs": [
        {
          "output_type": "stream",
          "text": [
            "1996\n",
            "My car is  stalled\n",
            "2018\n",
            "My car is  running\n"
          ],
          "name": "stdout"
        }
      ]
    },
    {
      "cell_type": "markdown",
      "metadata": {
        "id": "9ts924q9Kb7m",
        "colab_type": "text"
      },
      "source": [
        "**HOMEWORK**\n",
        "\n",
        "Store password attributed to an specific username in a class. If you get a correct password, print secret data.\n",
        "\n",
        "![alt text](https://media.tenor.com/images/961e82f8a3b25c778595a6358af3ca31/tenor.gif)"
      ]
    },
    {
      "cell_type": "code",
      "metadata": {
        "id": "jYnZy0aAyE3k",
        "colab_type": "code",
        "colab": {}
      },
      "source": [
        "# Create the class\n",
        "class user_credentials:\n",
        "  def __init__(self, username, password):  # I am creating 2 attributes that I want for my objects: maker and year\n",
        "    self.username = username\n",
        "    self.password = password\n",
        "    self.state = \"unknown\"\n",
        "\n",
        "  def check(self, guess):\n",
        "    if guess == self.password:\n",
        "      self.state = 'correct'\n",
        "    else:\n",
        "      self.state = 'wrong'\n",
        "      \n",
        "\n",
        "# Create new user credentials\n",
        "user1 = user_credentials('TacoCat23','iamacat')\n",
        "user2 = user_credentials('Fernando_OG1','howareyou?')\n",
        "\n",
        "# Ask for guess of password\n",
        "guess = input('What is you guess for the password of TacoCat23?')\n",
        "\n",
        "# Call function\n",
        "user_credentials.check(user1,guess)\n",
        "print('The password for TacoCat23 is ', user1.state)"
      ],
      "execution_count": null,
      "outputs": []
    },
    {
      "cell_type": "code",
      "metadata": {
        "id": "vtWMROeCd4ic",
        "colab_type": "code",
        "colab": {
          "base_uri": "https://localhost:8080/",
          "height": 67
        },
        "outputId": "3a5da522-c085-4c96-ea0f-bd631c96045f"
      },
      "source": [
        "class user_credentials():\n",
        "  def __init__(self, username, password, pw_strength):\n",
        "    self.username = username\n",
        "    self.password = password\n",
        "    self.pw_strength = pw_strength\n",
        "\n",
        "  def checking(self):\n",
        "    if guess == self.password:\n",
        "      print('correct')\n",
        "    else:\n",
        "      print('Password incorrect')\n",
        "\n",
        "# Create an object for the class\n",
        "user1 = user_credentials('Chloe2006','TACO_Cat12',7)\n",
        "user2 = user_credentials('Mina_Sibay','helloiliketacos',5)\n",
        "user3 = user_credentials('EmaAAAA','123456',3)\n",
        "\n",
        "print(user1.username)\n",
        "guess = input('What is the password for user1?')\n",
        "\n",
        "user1.checking()\n"
      ],
      "execution_count": null,
      "outputs": [
        {
          "output_type": "stream",
          "text": [
            "Chloe2006\n",
            "What is the password for user1?TACO_Cat12\n",
            "correct\n"
          ],
          "name": "stdout"
        }
      ]
    }
  ]
}