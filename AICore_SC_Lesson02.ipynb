{
  "nbformat": 4,
  "nbformat_minor": 0,
  "metadata": {
    "colab": {
      "name": "AICore_SC_Lesson02.ipynb",
      "provenance": [],
      "authorship_tag": "ABX9TyOlit9MScI6unbgZVkPW7Ud",
      "include_colab_link": true
    },
    "kernelspec": {
      "name": "python3",
      "display_name": "Python 3"
    }
  },
  "cells": [
    {
      "cell_type": "markdown",
      "metadata": {
        "id": "view-in-github",
        "colab_type": "text"
      },
      "source": [
        "<a href=\"https://colab.research.google.com/github/pili-zhangqiu/ML-Summer-School/blob/master/AICore_SC_Lesson02.ipynb\" target=\"_parent\"><img src=\"https://colab.research.google.com/assets/colab-badge.svg\" alt=\"Open In Colab\"/></a>"
      ]
    },
    {
      "cell_type": "markdown",
      "metadata": {
        "id": "KcChthWRDoAK",
        "colab_type": "text"
      },
      "source": [
        "# **Getting Started**\n",
        "**Mounting your GDrive**\n",
        "\n",
        "By mounting the Drive to your Python notebook, you will be able to read and manipulate files stored in your Google *Drive*."
      ]
    },
    {
      "cell_type": "code",
      "metadata": {
        "id": "8aohjLv7C4a2",
        "colab_type": "code",
        "colab": {
          "base_uri": "https://localhost:8080/",
          "height": 122
        },
        "outputId": "f7812b21-9fdb-4934-a883-f3fa00be42db"
      },
      "source": [
        "# Import the function to mount the Drive\n",
        "from google.colab import drive\n",
        "\n",
        "# This line shows that we will be mounting everything stored in the main GDrive folder\n",
        "drive.mount('/content/gdrive')"
      ],
      "execution_count": 1,
      "outputs": [
        {
          "output_type": "stream",
          "text": [
            "Go to this URL in a browser: https://accounts.google.com/o/oauth2/auth?client_id=947318989803-6bn6qk8qdgf4n4g3pfee6491hc0brc4i.apps.googleusercontent.com&redirect_uri=urn%3aietf%3awg%3aoauth%3a2.0%3aoob&scope=email%20https%3a%2f%2fwww.googleapis.com%2fauth%2fdocs.test%20https%3a%2f%2fwww.googleapis.com%2fauth%2fdrive%20https%3a%2f%2fwww.googleapis.com%2fauth%2fdrive.photos.readonly%20https%3a%2f%2fwww.googleapis.com%2fauth%2fpeopleapi.readonly&response_type=code\n",
            "\n",
            "Enter your authorization code:\n",
            "··········\n",
            "Mounted at /content/gdrive\n"
          ],
          "name": "stdout"
        }
      ]
    },
    {
      "cell_type": "markdown",
      "metadata": {
        "id": "fEA9NU44Ei_e",
        "colab_type": "text"
      },
      "source": [
        "**Importing libraries**"
      ]
    },
    {
      "cell_type": "code",
      "metadata": {
        "id": "V21t6HRFFNd5",
        "colab_type": "code",
        "colab": {}
      },
      "source": [
        "# Importing the pandas and Matplotlib libraries\n",
        "import pandas as pd\n",
        "import matplotlib.pyplot as plt\n"
      ],
      "execution_count": 2,
      "outputs": []
    },
    {
      "cell_type": "markdown",
      "metadata": {
        "id": "AIzg4BlFFYlR",
        "colab_type": "text"
      },
      "source": [
        "# **Reading and plotting from a CSV - 01**\n",
        "The example that you will encounter in Activity 01 is a fully-numerical table. All the values of my features are numbers."
      ]
    },
    {
      "cell_type": "code",
      "metadata": {
        "id": "MisTqfxKFn_U",
        "colab_type": "code",
        "colab": {
          "base_uri": "https://localhost:8080/",
          "height": 119
        },
        "outputId": "5090166f-c844-40ce-c782-29232e9560f3"
      },
      "source": [
        "# Read the CSV file and store its data content in a variable\n",
        "df = pd.read_csv('/content/gdrive/My Drive/Colab Notebooks/data/AutoInsurSweden.csv')\n",
        "\n",
        "# If I want to print or visualize the first rows of the table, I can use the head() function\n",
        "print(df.head())"
      ],
      "execution_count": 8,
      "outputs": [
        {
          "output_type": "stream",
          "text": [
            "   number_of_claims  total_payment(thousands of Swedish Kronor)\n",
            "0               108                                       392.5\n",
            "1                19                                         5.2\n",
            "2                13                                        15.7\n",
            "3               124                                       422.2\n",
            "4                40                                       119.4\n"
          ],
          "name": "stdout"
        }
      ]
    },
    {
      "cell_type": "code",
      "metadata": {
        "id": "AraVYbZnGDzC",
        "colab_type": "code",
        "colab": {
          "base_uri": "https://localhost:8080/",
          "height": 516
        },
        "outputId": "493e8b95-7d46-4154-fcb1-2d988bceb950"
      },
      "source": [
        "# Plotting a 2D scatter graph (each data is a point) using the feature columns\n",
        "print(df['number_of_claims'])\n",
        "print()\n",
        "\n",
        "# Plot\n",
        "plt.scatter(df['number_of_claims'],df['total_payment(thousands of Swedish Kronor)'], marker='*', c='orange')\n",
        "\n",
        "# Add labels\n",
        "plt.xlabel('Number of Claims')\n",
        "plt.ylabel('Total Payments (thousands of SK)')\n",
        "plt.title('Insurance Data')\n",
        "plt.show()"
      ],
      "execution_count": 15,
      "outputs": [
        {
          "output_type": "stream",
          "text": [
            "0     108\n",
            "1      19\n",
            "2      13\n",
            "3     124\n",
            "4      40\n",
            "     ... \n",
            "58      9\n",
            "59     31\n",
            "60     14\n",
            "61     53\n",
            "62     26\n",
            "Name: number_of_claims, Length: 63, dtype: int64\n",
            "\n"
          ],
          "name": "stdout"
        },
        {
          "output_type": "display_data",
          "data": {
            "image/png": "[encoded data removed]",
            "text/plain": [
              "<Figure size 432x288 with 1 Axes>"
            ]
          },
          "metadata": {
            "tags": [],
            "needs_background": "light"
          }
        }
      ]
    },
    {
      "cell_type": "markdown",
      "metadata": {
        "id": "3F3LpCYaGORp",
        "colab_type": "text"
      },
      "source": [
        "# **Reading and plotting from a CSV - 02**\n",
        "Unlike the previous example, Activity 02 presents a CSV file containing a feature column comprised of string values. Therefore, we will have to convert these string into a sensible, equivalent numerical value."
      ]
    },
    {
      "cell_type": "code",
      "metadata": {
        "id": "Vlq0Gea5G9xz",
        "colab_type": "code",
        "colab": {
          "base_uri": "https://localhost:8080/",
          "height": 408
        },
        "outputId": "e6c65a92-ffea-4369-c0dd-8679576fb7a6"
      },
      "source": [
        "# Read the CSV file and store its data content in a variable\n",
        "df = pd.read_csv('/content/gdrive/My Drive/Colab Notebooks/data/iris.csv')\n",
        "\n",
        "# If I want to print or visualize the first rows of the table, I can use the head() function\n",
        "print(df.head(20))"
      ],
      "execution_count": 27,
      "outputs": [
        {
          "output_type": "stream",
          "text": [
            "    sepal_length(cm)  sepal_width(cm)  ...  petal_width(cm)        class\n",
            "0                5.1              3.5  ...              0.2  Iris-setosa\n",
            "1                4.9              3.0  ...              0.2  Iris-setosa\n",
            "2                4.7              3.2  ...              0.2  Iris-setosa\n",
            "3                4.6              3.1  ...              0.2  Iris-setosa\n",
            "4                5.0              3.6  ...              0.2  Iris-setosa\n",
            "5                5.4              3.9  ...              0.4  Iris-setosa\n",
            "6                4.6              3.4  ...              0.3  Iris-setosa\n",
            "7                5.0              3.4  ...              0.2  Iris-setosa\n",
            "8                4.4              2.9  ...              0.2  Iris-setosa\n",
            "9                4.9              3.1  ...              0.1  Iris-setosa\n",
            "10               5.4              3.7  ...              0.2  Iris-setosa\n",
            "11               4.8              3.4  ...              0.2  Iris-setosa\n",
            "12               4.8              3.0  ...              0.1  Iris-setosa\n",
            "13               4.3              3.0  ...              0.1  Iris-setosa\n",
            "14               5.8              4.0  ...              0.2  Iris-setosa\n",
            "15               5.7              4.4  ...              0.4  Iris-setosa\n",
            "16               5.4              3.9  ...              0.4  Iris-setosa\n",
            "17               5.1              3.5  ...              0.3  Iris-setosa\n",
            "18               5.7              3.8  ...              0.3  Iris-setosa\n",
            "19               5.1              3.8  ...              0.3  Iris-setosa\n",
            "\n",
            "[20 rows x 5 columns]\n"
          ],
          "name": "stdout"
        }
      ]
    },
    {
      "cell_type": "code",
      "metadata": {
        "id": "R_ZJ-oasHD18",
        "colab_type": "code",
        "colab": {
          "base_uri": "https://localhost:8080/",
          "height": 136
        },
        "outputId": "71dbd449-ba33-48f2-e28b-3500941a95f3"
      },
      "source": [
        "# To get the list of features in the CSV:\n",
        "print(df.columns)\n",
        "\n",
        "# If we look at the 'class' feature column, we will see that the values are string.\n",
        "# If you want to know how many different 'class' values there are in the CSV, use the panda function unique()\n",
        "print()\n",
        "print(df['class'].unique())\n",
        "\n",
        "# To get the number of 'examples' or datapoint in my CSV:\n",
        "print()\n",
        "print('datapoints number: ', len(df))"
      ],
      "execution_count": 23,
      "outputs": [
        {
          "output_type": "stream",
          "text": [
            "Index(['sepal_length(cm)', 'sepal_width(cm)', 'petal_length(cm)',\n",
            "       'petal_width(cm)', 'class'],\n",
            "      dtype='object')\n",
            "\n",
            "['Iris-setosa' 'Iris-versicolor' 'Iris-virginica']\n",
            "\n",
            "datapoints number:  150\n"
          ],
          "name": "stdout"
        }
      ]
    },
    {
      "cell_type": "markdown",
      "metadata": {
        "id": "YtVFiB9BI49G",
        "colab_type": "text"
      },
      "source": [
        "**Map string-based values to numbers**"
      ]
    },
    {
      "cell_type": "code",
      "metadata": {
        "id": "iDEiSds_H4PH",
        "colab_type": "code",
        "colab": {
          "base_uri": "https://localhost:8080/",
          "height": 255
        },
        "outputId": "ab2da496-bbb3-4425-f37f-a07b08bcf96d"
      },
      "source": [
        "# Converting the string-based 'class' values to a numerical equivalent. We will be using dictionaries.\n",
        "# Create the dictionaries to map the values\n",
        "species_to_num = {\n",
        "    'Iris-setosa' : 0,\n",
        "    'Iris-versicolor' : 1,\n",
        "    'Iris-virginica' : 2\n",
        "}\n",
        "\n",
        "num_to_species = {\n",
        "    0 : 'Iris-setosa',\n",
        "    1 : 'Iris-versicolor',\n",
        "    2 : 'Iris-virginica'\n",
        "}\n",
        "\n",
        "# If the first known unique value of the feature 'class' is 'Iris-setosa', then we know that the values are still strings.\n",
        "# If that happens, maps the string values to their numerical equivalent using dictionaries\n",
        "if df['class'].unique()[0] == 'Iris-setosa':\n",
        "  df['class'] = df['class'].map(species_to_num)\n",
        "\n",
        "# Visualize\n",
        "print(df.head(150))"
      ],
      "execution_count": 28,
      "outputs": [
        {
          "output_type": "stream",
          "text": [
            "     sepal_length(cm)  sepal_width(cm)  ...  petal_width(cm)  class\n",
            "0                 5.1              3.5  ...              0.2      0\n",
            "1                 4.9              3.0  ...              0.2      0\n",
            "2                 4.7              3.2  ...              0.2      0\n",
            "3                 4.6              3.1  ...              0.2      0\n",
            "4                 5.0              3.6  ...              0.2      0\n",
            "..                ...              ...  ...              ...    ...\n",
            "145               6.7              3.0  ...              2.3      2\n",
            "146               6.3              2.5  ...              1.9      2\n",
            "147               6.5              3.0  ...              2.0      2\n",
            "148               6.2              3.4  ...              2.3      2\n",
            "149               5.9              3.0  ...              1.8      2\n",
            "\n",
            "[150 rows x 5 columns]\n"
          ],
          "name": "stdout"
        }
      ]
    },
    {
      "cell_type": "markdown",
      "metadata": {
        "id": "G3gcGuxEJDzL",
        "colab_type": "text"
      },
      "source": [
        "**Plotting**"
      ]
    },
    {
      "cell_type": "code",
      "metadata": {
        "id": "AwqFRcUuIsoG",
        "colab_type": "code",
        "colab": {
          "base_uri": "https://localhost:8080/",
          "height": 295
        },
        "outputId": "09814f3f-6fc6-4e2d-9465-3ae966f295b1"
      },
      "source": [
        "# Plot the 'sepal_length' feature against the flower ‘class’\n",
        "plt.scatter(df['sepal_width(cm)'], df['class'])\n",
        "\n",
        "# Add the required labels to the graph\n",
        "plt.xlabel('Sepal Width (cm)')\n",
        "plt.ylabel('Flower Class or Species')\n",
        "plt.yticks(range(3))\n",
        "plt.title('Flower features')\n",
        "plt.show()"
      ],
      "execution_count": 36,
      "outputs": [
        {
          "output_type": "display_data",
          "data": {
            "image/png": "[encoded data removed]",
            "text/plain": [
              "<Figure size 432x288 with 1 Axes>"
            ]
          },
          "metadata": {
            "tags": [],
            "needs_background": "light"
          }
        }
      ]
    },
    {
      "cell_type": "markdown",
      "metadata": {
        "id": "9Qg5U0VLJGGl",
        "colab_type": "text"
      },
      "source": [
        "**Group by feature value**"
      ]
    },
    {
      "cell_type": "code",
      "metadata": {
        "id": "8CFHnCeTI22O",
        "colab_type": "code",
        "colab": {
          "base_uri": "https://localhost:8080/",
          "height": 295
        },
        "outputId": "d0ba1b23-a69d-46d2-c299-631a475c188b"
      },
      "source": [
        "# Put them in groups based on their 'class' values (aka. species name)\n",
        "groups = df.groupby('class')\n",
        "\n",
        "# 1st line: For every unique value group that I created\n",
        "# 2nd line: I am gonna create a scatter plot with ‘sepal_length’ as my x-axis data and ‘sepal_width’ as my y-axis data\n",
        "# In this case each group will be printed in a different loop repetition, giving them a different color\n",
        "for unique_val, group in groups:\n",
        "  plt.scatter(group['sepal_length(cm)'] , group['sepal_width(cm)'] , label=num_to_species[unique_val])  # label for legend\n",
        "\n",
        "\n",
        "# Add labels\n",
        "plt.xlabel('Sepal Length (cm)')\n",
        "plt.ylabel('Sepal Width (cm)')\n",
        "plt.title('Iris flowers sepal values')\n",
        "plt.legend()  # To print the labels according to the colours\n",
        "plt.show()"
      ],
      "execution_count": 32,
      "outputs": [
        {
          "output_type": "display_data",
          "data": {
            "image/png": "[encoded data removed]",
            "text/plain": [
              "<Figure size 432x288 with 1 Axes>"
            ]
          },
          "metadata": {
            "tags": [],
            "needs_background": "light"
          }
        }
      ]
    }
  ]
}