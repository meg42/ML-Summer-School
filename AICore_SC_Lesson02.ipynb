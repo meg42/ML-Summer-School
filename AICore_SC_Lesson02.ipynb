{
  "nbformat": 4,
  "nbformat_minor": 0,
  "metadata": {
    "colab": {
      "name": "AICore_SC_Lesson02.ipynb",
      "provenance": [],
      "authorship_tag": "ABX9TyOEN9UQ3pBT9JEbnUBVIlji",
      "include_colab_link": true
    },
    "kernelspec": {
      "name": "python3",
      "display_name": "Python 3"
    }
  },
  "cells": [
    {
      "cell_type": "markdown",
      "metadata": {
        "id": "view-in-github",
        "colab_type": "text"
      },
      "source": [
        "<a href=\"https://colab.research.google.com/github/pili-zhangqiu/ML-Summer-School/blob/master/AICore_SC_Lesson02.ipynb\" target=\"_parent\"><img src=\"https://colab.research.google.com/assets/colab-badge.svg\" alt=\"Open In Colab\"/></a>"
      ]
    },
    {
      "cell_type": "markdown",
      "metadata": {
        "id": "KcChthWRDoAK",
        "colab_type": "text"
      },
      "source": [
        "# **Getting Started**\n",
        "**Mounting your GDrive**\n",
        "\n",
        "By mounting the Drive to your Python notebook, you will be able to read and manipulate files stored in your Google *Drive*."
      ]
    },
    {
      "cell_type": "code",
      "metadata": {
        "id": "8aohjLv7C4a2",
        "colab_type": "code",
        "colab": {
          "base_uri": "https://localhost:8080/",
          "height": 34
        },
        "outputId": "be52b1f3-d1c4-46b0-cf87-33318401ad4c"
      },
      "source": [
        "# Import the function to mount the Drive\n",
        "from google.colab import drive\n",
        "\n",
        "# This line shows that we will be mounting everything stored in the main GDrive folder\n",
        "drive.mount('/content/gdrive')"
      ],
      "execution_count": 13,
      "outputs": [
        {
          "output_type": "stream",
          "text": [
            "Drive already mounted at /content/gdrive; to attempt to forcibly remount, call drive.mount(\"/content/gdrive\", force_remount=True).\n"
          ],
          "name": "stdout"
        }
      ]
    },
    {
      "cell_type": "markdown",
      "metadata": {
        "id": "fEA9NU44Ei_e",
        "colab_type": "text"
      },
      "source": [
        "**Importing libraries**"
      ]
    },
    {
      "cell_type": "code",
      "metadata": {
        "id": "V21t6HRFFNd5",
        "colab_type": "code",
        "colab": {}
      },
      "source": [
        "# Importing the pandas and Matplotlib libraries\n",
        "import pandas as pd\n",
        "import matplotlib.pyplot as plt\n"
      ],
      "execution_count": 3,
      "outputs": []
    },
    {
      "cell_type": "markdown",
      "metadata": {
        "id": "AIzg4BlFFYlR",
        "colab_type": "text"
      },
      "source": [
        "# **Reading and plotting from a CSV - 01**\n",
        "The example that you will encounter in Activity 01 is a fully-numerical table. All the values of my features are numbers."
      ]
    },
    {
      "cell_type": "code",
      "metadata": {
        "id": "MisTqfxKFn_U",
        "colab_type": "code",
        "colab": {
          "base_uri": "https://localhost:8080/",
          "height": 118
        },
        "outputId": "5090166f-c844-40ce-c782-29232e9560f3"
      },
      "source": [
        "# Read the CSV file and store its data content in a variable\n",
        "df = pd.read_csv('/content/gdrive/My Drive/Colab Notebooks/data/AutoInsurSweden.csv')\n",
        "\n",
        "# If I want to print or visualize the first rows of the table, I can use the head() function\n",
        "print(df.head())"
      ],
      "execution_count": null,
      "outputs": [
        {
          "output_type": "stream",
          "text": [
            "   number_of_claims  total_payment(thousands of Swedish Kronor)\n",
            "0               108                                       392.5\n",
            "1                19                                         5.2\n",
            "2                13                                        15.7\n",
            "3               124                                       422.2\n",
            "4                40                                       119.4\n"
          ],
          "name": "stdout"
        }
      ]
    },
    {
      "cell_type": "code",
      "metadata": {
        "id": "AraVYbZnGDzC",
        "colab_type": "code",
        "colab": {
          "base_uri": "https://localhost:8080/",
          "height": 514
        },
        "outputId": "493e8b95-7d46-4154-fcb1-2d988bceb950"
      },
      "source": [
        "# Plotting a 2D scatter graph (each data is a point) using the feature columns\n",
        "print(df['number_of_claims'])\n",
        "print()\n",
        "\n",
        "# Plot\n",
        "plt.scatter(df['number_of_claims'],df['total_payment(thousands of Swedish Kronor)'], marker='*', c='orange')\n",
        "\n",
        "# Add labels\n",
        "plt.xlabel('Number of Claims')\n",
        "plt.ylabel('Total Payments (thousands of SK)')\n",
        "plt.title('Insurance Data')\n",
        "plt.show()"
      ],
      "execution_count": null,
      "outputs": [
        {
          "output_type": "stream",
          "text": [
            "0     108\n",
            "1      19\n",
            "2      13\n",
            "3     124\n",
            "4      40\n",
            "     ... \n",
            "58      9\n",
            "59     31\n",
            "60     14\n",
            "61     53\n",
            "62     26\n",
            "Name: number_of_claims, Length: 63, dtype: int64\n",
            "\n"
          ],
          "name": "stdout"
        },
        {
          "output_type": "display_data",
          "data": {
            "image/png": "[encoded data removed]",
            "text/plain": [
              "<Figure size 432x288 with 1 Axes>"
            ]
          },
          "metadata": {
            "tags": [],
            "needs_background": "light"
          }
        }
      ]
    },
    {
      "cell_type": "markdown",
      "metadata": {
        "id": "3F3LpCYaGORp",
        "colab_type": "text"
      },
      "source": [
        "# **Reading and plotting from a CSV - 02**\n",
        "Unlike the previous example, Activity 02 presents a CSV file containing a feature column comprised of string values. Therefore, we will have to convert these string into a sensible, equivalent numerical value."
      ]
    },
    {
      "cell_type": "code",
      "metadata": {
        "id": "Vlq0Gea5G9xz",
        "colab_type": "code",
        "colab": {
          "base_uri": "https://localhost:8080/",
          "height": 403
        },
        "outputId": "e6c65a92-ffea-4369-c0dd-8679576fb7a6"
      },
      "source": [
        "# Read the CSV file and store its data content in a variable\n",
        "df = pd.read_csv('/content/gdrive/My Drive/Colab Notebooks/data/iris.csv')\n",
        "\n",
        "# If I want to print or visualize the first rows of the table, I can use the head() function\n",
        "print(df.head(20))"
      ],
      "execution_count": null,
      "outputs": [
        {
          "output_type": "stream",
          "text": [
            "    sepal_length(cm)  sepal_width(cm)  ...  petal_width(cm)        class\n",
            "0                5.1              3.5  ...              0.2  Iris-setosa\n",
            "1                4.9              3.0  ...              0.2  Iris-setosa\n",
            "2                4.7              3.2  ...              0.2  Iris-setosa\n",
            "3                4.6              3.1  ...              0.2  Iris-setosa\n",
            "4                5.0              3.6  ...              0.2  Iris-setosa\n",
            "5                5.4              3.9  ...              0.4  Iris-setosa\n",
            "6                4.6              3.4  ...              0.3  Iris-setosa\n",
            "7                5.0              3.4  ...              0.2  Iris-setosa\n",
            "8                4.4              2.9  ...              0.2  Iris-setosa\n",
            "9                4.9              3.1  ...              0.1  Iris-setosa\n",
            "10               5.4              3.7  ...              0.2  Iris-setosa\n",
            "11               4.8              3.4  ...              0.2  Iris-setosa\n",
            "12               4.8              3.0  ...              0.1  Iris-setosa\n",
            "13               4.3              3.0  ...              0.1  Iris-setosa\n",
            "14               5.8              4.0  ...              0.2  Iris-setosa\n",
            "15               5.7              4.4  ...              0.4  Iris-setosa\n",
            "16               5.4              3.9  ...              0.4  Iris-setosa\n",
            "17               5.1              3.5  ...              0.3  Iris-setosa\n",
            "18               5.7              3.8  ...              0.3  Iris-setosa\n",
            "19               5.1              3.8  ...              0.3  Iris-setosa\n",
            "\n",
            "[20 rows x 5 columns]\n"
          ],
          "name": "stdout"
        }
      ]
    },
    {
      "cell_type": "code",
      "metadata": {
        "id": "R_ZJ-oasHD18",
        "colab_type": "code",
        "colab": {
          "base_uri": "https://localhost:8080/",
          "height": 134
        },
        "outputId": "71dbd449-ba33-48f2-e28b-3500941a95f3"
      },
      "source": [
        "# To get the list of features in the CSV:\n",
        "print(df.columns)\n",
        "\n",
        "# If we look at the 'class' feature column, we will see that the values are string.\n",
        "# If you want to know how many different 'class' values there are in the CSV, use the panda function unique()\n",
        "print()\n",
        "print(df['class'].unique())\n",
        "\n",
        "# To get the number of 'examples' or datapoint in my CSV:\n",
        "print()\n",
        "print('datapoints number: ', len(df))"
      ],
      "execution_count": null,
      "outputs": [
        {
          "output_type": "stream",
          "text": [
            "Index(['sepal_length(cm)', 'sepal_width(cm)', 'petal_length(cm)',\n",
            "       'petal_width(cm)', 'class'],\n",
            "      dtype='object')\n",
            "\n",
            "['Iris-setosa' 'Iris-versicolor' 'Iris-virginica']\n",
            "\n",
            "datapoints number:  150\n"
          ],
          "name": "stdout"
        }
      ]
    },
    {
      "cell_type": "markdown",
      "metadata": {
        "id": "YtVFiB9BI49G",
        "colab_type": "text"
      },
      "source": [
        "**Map string-based values to numbers**"
      ]
    },
    {
      "cell_type": "code",
      "metadata": {
        "id": "iDEiSds_H4PH",
        "colab_type": "code",
        "colab": {
          "base_uri": "https://localhost:8080/",
          "height": 252
        },
        "outputId": "ab2da496-bbb3-4425-f37f-a07b08bcf96d"
      },
      "source": [
        "# Converting the string-based 'class' values to a numerical equivalent. We will be using dictionaries.\n",
        "# Create the dictionaries to map the values\n",
        "species_to_num = {\n",
        "    'Iris-setosa' : 0,\n",
        "    'Iris-versicolor' : 1,\n",
        "    'Iris-virginica' : 2\n",
        "}\n",
        "\n",
        "num_to_species = {\n",
        "    0 : 'Iris-setosa',\n",
        "    1 : 'Iris-versicolor',\n",
        "    2 : 'Iris-virginica'\n",
        "}\n",
        "\n",
        "# If the first known unique value of the feature 'class' is 'Iris-setosa', then we know that the values are still strings.\n",
        "# If that happens, maps the string values to their numerical equivalent using dictionaries\n",
        "if df['class'].unique()[0] == 'Iris-setosa':\n",
        "  df['class'] = df['class'].map(species_to_num)\n",
        "\n",
        "# Visualize\n",
        "print(df.head(150))"
      ],
      "execution_count": null,
      "outputs": [
        {
          "output_type": "stream",
          "text": [
            "     sepal_length(cm)  sepal_width(cm)  ...  petal_width(cm)  class\n",
            "0                 5.1              3.5  ...              0.2      0\n",
            "1                 4.9              3.0  ...              0.2      0\n",
            "2                 4.7              3.2  ...              0.2      0\n",
            "3                 4.6              3.1  ...              0.2      0\n",
            "4                 5.0              3.6  ...              0.2      0\n",
            "..                ...              ...  ...              ...    ...\n",
            "145               6.7              3.0  ...              2.3      2\n",
            "146               6.3              2.5  ...              1.9      2\n",
            "147               6.5              3.0  ...              2.0      2\n",
            "148               6.2              3.4  ...              2.3      2\n",
            "149               5.9              3.0  ...              1.8      2\n",
            "\n",
            "[150 rows x 5 columns]\n"
          ],
          "name": "stdout"
        }
      ]
    },
    {
      "cell_type": "markdown",
      "metadata": {
        "id": "G3gcGuxEJDzL",
        "colab_type": "text"
      },
      "source": [
        "**Plotting**"
      ]
    },
    {
      "cell_type": "code",
      "metadata": {
        "id": "AwqFRcUuIsoG",
        "colab_type": "code",
        "colab": {
          "base_uri": "https://localhost:8080/",
          "height": 295
        },
        "outputId": "09814f3f-6fc6-4e2d-9465-3ae966f295b1"
      },
      "source": [
        "# Plot the 'sepal_length' feature against the flower ‘class’\n",
        "plt.scatter(df['sepal_width(cm)'], df['class'])\n",
        "\n",
        "# Add the required labels to the graph\n",
        "plt.xlabel('Sepal Width (cm)')\n",
        "plt.ylabel('Flower Class or Species')\n",
        "plt.yticks(range(3))\n",
        "plt.title('Flower features')\n",
        "plt.show()"
      ],
      "execution_count": null,
      "outputs": [
        {
          "output_type": "display_data",
          "data": {
            "image/png": "[encoded data removed]",
            "text/plain": [
              "<Figure size 432x288 with 1 Axes>"
            ]
          },
          "metadata": {
            "tags": [],
            "needs_background": "light"
          }
        }
      ]
    },
    {
      "cell_type": "markdown",
      "metadata": {
        "id": "9Qg5U0VLJGGl",
        "colab_type": "text"
      },
      "source": [
        "**Group by feature value**"
      ]
    },
    {
      "cell_type": "code",
      "metadata": {
        "id": "8CFHnCeTI22O",
        "colab_type": "code",
        "colab": {
          "base_uri": "https://localhost:8080/",
          "height": 295
        },
        "outputId": "d0ba1b23-a69d-46d2-c299-631a475c188b"
      },
      "source": [
        "# Put them in groups based on their 'class' values (aka. species name)\n",
        "groups = df.groupby('class')\n",
        "\n",
        "# 1st line: For every unique value group that I created\n",
        "# 2nd line: I am gonna create a scatter plot with ‘sepal_length’ as my x-axis data and ‘sepal_width’ as my y-axis data\n",
        "# In this case each group will be printed in a different loop repetition, giving them a different color\n",
        "for unique_val, group in groups:\n",
        "  plt.scatter(group['sepal_length(cm)'] , group['sepal_width(cm)'] , label=num_to_species[unique_val])  # label for legend\n",
        "\n",
        "\n",
        "# Add labels\n",
        "plt.xlabel('Sepal Length (cm)')\n",
        "plt.ylabel('Sepal Width (cm)')\n",
        "plt.title('Iris flowers sepal values')\n",
        "plt.legend()  # To print the labels according to the colours\n",
        "plt.show()"
      ],
      "execution_count": null,
      "outputs": [
        {
          "output_type": "display_data",
          "data": {
            "image/png": "[encoded data removed]",
            "text/plain": [
              "<Figure size 432x288 with 1 Axes>"
            ]
          },
          "metadata": {
            "tags": [],
            "needs_background": "light"
          }
        }
      ]
    },
    {
      "cell_type": "markdown",
      "metadata": {
        "colab_type": "text",
        "id": "fdE6P3H7mX6j"
      },
      "source": [
        "# **Homework**\n",
        "The CSV presents a CSV file containing a feature column comprised of string values. Therefore, we will have to convert these string into a sensible, equivalent numerical value."
      ]
    },
    {
      "cell_type": "code",
      "metadata": {
        "colab_type": "code",
        "id": "x0T-mfZRmX6o",
        "colab": {
          "base_uri": "https://localhost:8080/",
          "height": 370
        },
        "outputId": "cab16442-8438-45cb-e51c-e70f980e350a"
      },
      "source": [
        "# Read the CSV file and store its data content in a variable\n",
        "df = pd.read_csv('/content/gdrive/My Drive/Colab Notebooks/data/Gender_Height_Weight_2.csv')\n",
        "\n",
        "# If I want to print or visualize the first rows of the table, I can use the head() function\n",
        "print(df.head(20))"
      ],
      "execution_count": 14,
      "outputs": [
        {
          "output_type": "stream",
          "text": [
            "   Gender     Height      Weight\n",
            "0    Male  67.749130  171.875903\n",
            "1    Male  72.002520  189.386300\n",
            "2    Male  72.713491  207.459682\n",
            "3    Male  66.147738  183.935070\n",
            "4    Male  68.376827  189.465943\n",
            "5    Male  71.587216  184.457926\n",
            "6    Male  70.356166  185.024508\n",
            "7    Male  65.888951  159.005856\n",
            "8    Male  62.525784  144.750084\n",
            "9    Male  68.556281  189.036498\n",
            "10   Male  69.196983  194.257748\n",
            "11   Male  63.846048  161.697694\n",
            "12   Male  73.143335  205.721864\n",
            "13   Male  71.925106  198.674655\n",
            "14   Male  69.604027  185.639511\n",
            "15   Male  68.566092  180.889583\n",
            "16   Male  74.040780  217.122686\n",
            "17   Male  67.562913  171.266430\n",
            "18   Male  73.028316  225.564077\n",
            "19   Male  63.756163  158.747208\n"
          ],
          "name": "stdout"
        }
      ]
    },
    {
      "cell_type": "code",
      "metadata": {
        "colab_type": "code",
        "id": "Pqj6mjGOmX6x",
        "colab": {
          "base_uri": "https://localhost:8080/",
          "height": 101
        },
        "outputId": "5122fd98-5da7-41c7-c7ba-9e9ac67f48b8"
      },
      "source": [
        "# To get the list of features in the CSV:\n",
        "print(df.columns)\n",
        "\n",
        "# If we look at the 'Gender' feature column, we will see that the values are string.\n",
        "# If you want to know how many different 'class' values there are in the CSV, use the panda function unique()\n",
        "print()\n",
        "print(df['Gender'].unique())\n",
        "\n",
        "# To get the number of 'examples' or datapoint in my CSV:\n",
        "print()\n",
        "print('datapoints number: ', len(df))"
      ],
      "execution_count": 15,
      "outputs": [
        {
          "output_type": "stream",
          "text": [
            "Index(['Gender', 'Height', 'Weight'], dtype='object')\n",
            "\n",
            "['Male' 'Female']\n",
            "\n",
            "datapoints number:  1231\n"
          ],
          "name": "stdout"
        }
      ]
    },
    {
      "cell_type": "markdown",
      "metadata": {
        "colab_type": "text",
        "id": "UsydE5JSmX63"
      },
      "source": [
        "**Map string-based values to numbers**"
      ]
    },
    {
      "cell_type": "code",
      "metadata": {
        "colab_type": "code",
        "id": "Um3mYRW0mX64",
        "colab": {
          "base_uri": "https://localhost:8080/",
          "height": 252
        },
        "outputId": "c00ad022-7c0f-4c5e-c46b-bab762f02e38"
      },
      "source": [
        "# Converting the string-based 'Gender' values to a numerical equivalent. We will be using dictionaries.\n",
        "# Create the dictionaries to map the values\n",
        "gender_to_num = {\n",
        "    'Male' : 0,\n",
        "    'Female' : 1\n",
        "    }\n",
        "\n",
        "num_to_gender = {\n",
        "    0 : 'Male',\n",
        "    1 : 'Female'\n",
        "}\n",
        "\n",
        "# If the first known unique value of the feature 'Gender' is 'Male', then we know that the values are still strings.\n",
        "# If that happens, maps the string values to their numerical equivalent using dictionaries\n",
        "if df['Gender'].unique()[0] == 'Male':\n",
        "  df['Gender'] = df['Gender'].map(gender_to_num)\n",
        "\n",
        "# Visualize\n",
        "print(df.head(150))"
      ],
      "execution_count": 16,
      "outputs": [
        {
          "output_type": "stream",
          "text": [
            "     Gender     Height      Weight\n",
            "0         0  67.749130  171.875903\n",
            "1         0  72.002520  189.386300\n",
            "2         0  72.713491  207.459682\n",
            "3         0  66.147738  183.935070\n",
            "4         0  68.376827  189.465943\n",
            "..      ...        ...         ...\n",
            "145       0  68.643017  181.371723\n",
            "146       0  73.895315  208.037702\n",
            "147       0  72.031924  198.953579\n",
            "148       0  68.485214  184.657140\n",
            "149       0  66.755219  141.674977\n",
            "\n",
            "[150 rows x 3 columns]\n"
          ],
          "name": "stdout"
        }
      ]
    },
    {
      "cell_type": "markdown",
      "metadata": {
        "colab_type": "text",
        "id": "7FldQaY8mX6-"
      },
      "source": [
        "**Plotting**"
      ]
    },
    {
      "cell_type": "code",
      "metadata": {
        "colab_type": "code",
        "id": "YoJVs6STmX7A",
        "colab": {
          "base_uri": "https://localhost:8080/",
          "height": 295
        },
        "outputId": "d31dd59c-808b-4a60-e024-3cd92795456b"
      },
      "source": [
        "# Plot the 'sepal_length' feature against the flower ‘class’\n",
        "plt.scatter(df['Height'], df['Gender'])\n",
        "\n",
        "# Add the required labels to the graph\n",
        "plt.xlabel('Height (cm)')\n",
        "plt.ylabel('Gender')\n",
        "plt.yticks(range(3))\n",
        "plt.title('Height by Gender')\n",
        "plt.show()"
      ],
      "execution_count": 17,
      "outputs": [
        {
          "output_type": "display_data",
          "data": {
            "image/png": "[encoded data removed]",
            "text/plain": [
              "<Figure size 432x288 with 1 Axes>"
            ]
          },
          "metadata": {
            "tags": [],
            "needs_background": "light"
          }
        }
      ]
    },
    {
      "cell_type": "markdown",
      "metadata": {
        "colab_type": "text",
        "id": "0baWCRTVmX7F"
      },
      "source": [
        "**Group by feature value**"
      ]
    },
    {
      "cell_type": "code",
      "metadata": {
        "colab_type": "code",
        "id": "qapMluF-mX7G",
        "colab": {
          "base_uri": "https://localhost:8080/",
          "height": 295
        },
        "outputId": "1344b7ac-9782-4e94-cedd-64b2a526db9f"
      },
      "source": [
        "# Put them in groups based on their 'class' values (aka. species name)\n",
        "groups = df.groupby('Gender')\n",
        "\n",
        "# 1st line: For every unique value group that I created\n",
        "# 2nd line: I am gonna create a scatter plot with ‘sepal_length’ as my x-axis data and ‘sepal_width’ as my y-axis data\n",
        "# In this case each group will be printed in a different loop repetition, giving them a different color\n",
        "for unique_val, group in groups:\n",
        "  plt.scatter(group['Height'] , group['Weight'] , label=num_to_gender[unique_val])  # label for legend\n",
        "\n",
        "\n",
        "# Add labels\n",
        "plt.xlabel('Height (cm)')\n",
        "plt.ylabel('Weight (kg)')\n",
        "plt.title('BMI by Gender')\n",
        "plt.legend()  # To print the labels according to the colours\n",
        "plt.show()"
      ],
      "execution_count": 18,
      "outputs": [
        {
          "output_type": "display_data",
          "data": {
            "image/png": "[encoded data removed]",
            "text/plain": [
              "<Figure size 432x288 with 1 Axes>"
            ]
          },
          "metadata": {
            "tags": [],
            "needs_background": "light"
          }
        }
      ]
    }
  ]
}